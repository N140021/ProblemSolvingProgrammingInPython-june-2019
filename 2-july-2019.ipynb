{
 "cells": [
  {
   "cell_type": "markdown",
   "metadata": {},
   "source": [
    "### Data Objectivies\n",
    "- Practice on Income Dataset\n",
    "    - Define functions for the following data points\n",
    "            - Combined Average Income of all states from 2005 to 2013\n",
    "            - State with highest average income in the last three years\n",
    "            - State with lowest average income from 2007 to 2010(inclusive)\n",
    "            - Print the list of all states in the same line with average income less than California\n",
    "            - Print the names of states based on descending order of income in the year 2009\n",
    "            - State with the lowest recorded income from 2005 to 2013\n"
   ]
  },
  {
   "cell_type": "code",
   "execution_count": null,
   "metadata": {},
   "outputs": [],
   "source": []
  }
 ],
 "metadata": {
  "kernelspec": {
   "display_name": "Python 3",
   "language": "python",
   "name": "python3"
  },
  "language_info": {
   "codemirror_mode": {
    "name": "ipython",
    "version": 3
   },
   "file_extension": ".py",
   "mimetype": "text/x-python",
   "name": "python",
   "nbconvert_exporter": "python",
   "pygments_lexer": "ipython3",
   "version": "3.7.3"
  }
 },
 "nbformat": 4,
 "nbformat_minor": 2
}
