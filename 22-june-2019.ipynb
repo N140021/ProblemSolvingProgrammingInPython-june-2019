{
 "cells": [
  {
   "cell_type": "markdown",
   "metadata": {},
   "source": [
    "### Day Objectvies\n",
    "\n",
    "- File Handling\n",
    "    - Baisc File Data Processing\n",
    "        - Accessing and Modifying File Data\n",
    "    - Character Count\n",
    "    - Line Count\n",
    "    - File Size\n",
    "    - Word Count\n",
    "    - Unique Word Count"
   ]
  },
  {
   "cell_type": "code",
   "execution_count": null,
   "metadata": {},
   "outputs": [],
   "source": [
    "# Read a file -File should exist(read mode)\n",
    "# Write into a file -File can exist(append mode) or If not its creates new file(write mode)\n"
   ]
  },
  {
   "cell_type": "code",
   "execution_count": 19,
   "metadata": {},
   "outputs": [
    {
     "name": "stdout",
     "output_type": "stream",
     "text": [
      "hiii devisai where are you\n"
     ]
    }
   ],
   "source": [
    "# Read file\n",
    "\n",
    "def readFile(filepath):\n",
    "    with open(filepath,'r') as f:\n",
    "        #print(type(f))\n",
    "        print(f.read())\n",
    "        #filedata=f.read()\n",
    "    #return filedata\n",
    "readFile(\"DataFiles/data.txt\")"
   ]
  },
  {
   "cell_type": "code",
   "execution_count": 13,
   "metadata": {},
   "outputs": [
    {
     "name": "stdout",
     "output_type": "stream",
     "text": [
      "13\n"
     ]
    }
   ],
   "source": [
    "# Write into a file\n",
    "\n",
    "def writeFile(filepath):\n",
    "    with open(filepath,'a') as f:\n",
    "        print(f.write(newdata))\n",
    "newdata=\"where are you\"\n",
    "writeFile(\"DataFiles/data.txt\")"
   ]
  },
  {
   "cell_type": "code",
   "execution_count": 11,
   "metadata": {},
   "outputs": [
    {
     "name": "stdout",
     "output_type": "stream",
     "text": [
      "count is 6\n"
     ]
    }
   ],
   "source": [
    "# Line count\n",
    "\n",
    "def linecount(filename):\n",
    "    lcount=1\n",
    "    with open(filename,'r') as f:\n",
    "        fh=f.read()\n",
    "        for i in fh:\n",
    "            if i=='\\n':\n",
    "                lcount=lcount+1\n",
    "        print(\"count is\",lcount)\n",
    "linecount(\"DataFiles/data.txt\")"
   ]
  },
  {
   "cell_type": "code",
   "execution_count": 27,
   "metadata": {},
   "outputs": [
    {
     "name": "stdout",
     "output_type": "stream",
     "text": [
      "count is 31\n"
     ]
    }
   ],
   "source": [
    "# Character count\n",
    "def charactercount(filename):\n",
    "    chcount=0\n",
    "    with open(filename,'r') as f:\n",
    "        fh=f.read()\n",
    "        for i in fh:\n",
    "            chcount=chcount+1\n",
    "        print(\"count is\",chcount)\n",
    "charactercount(\"DataFiles/data.txt\")"
   ]
  },
  {
   "cell_type": "code",
   "execution_count": 1,
   "metadata": {},
   "outputs": [
    {
     "name": "stdout",
     "output_type": "stream",
     "text": [
      "count is 8\n"
     ]
    }
   ],
   "source": [
    "#Word count\n",
    "def wordcount(filename):\n",
    "    scount=1\n",
    "    with open(filename,'r') as f:\n",
    "        fh=f.read()\n",
    "        for i in fh:\n",
    "            if i.isspace():\n",
    "                scount=scount+1\n",
    "        print(\"count is\",scount)\n",
    "wordcount(\"DataFiles/data.txt\")"
   ]
  },
  {
   "cell_type": "code",
   "execution_count": 1,
   "metadata": {},
   "outputs": [
    {
     "name": "stdout",
     "output_type": "stream",
     "text": [
      "4\n"
     ]
    }
   ],
   "source": [
    "s=\"Devi How are you\"\n",
    "print(len(s.split()))"
   ]
  },
  {
   "cell_type": "code",
   "execution_count": 2,
   "metadata": {},
   "outputs": [
    {
     "name": "stdout",
     "output_type": "stream",
     "text": [
      "count is 8\n"
     ]
    }
   ],
   "source": [
    "# Word count\n",
    "def linecount(filename):\n",
    "    with open(filename,'r') as f:\n",
    "        fh=f.read()\n",
    "        print(\"count is\",len(fh.split()))\n",
    "linecount(\"DataFiles/data.txt\")"
   ]
  },
  {
   "cell_type": "code",
   "execution_count": 46,
   "metadata": {},
   "outputs": [
    {
     "name": "stdout",
     "output_type": "stream",
     "text": [
      "36\n"
     ]
    }
   ],
   "source": [
    "# File size \n",
    "import os\n",
    "print(os.path.getsize(\"DataFiles/data.txt\"))"
   ]
  },
  {
   "cell_type": "code",
   "execution_count": 18,
   "metadata": {},
   "outputs": [
    {
     "name": "stdout",
     "output_type": "stream",
     "text": [
      "9\n",
      "['hiii', 'how', 'are', 'you?', 'devisai', 'hello', 'devi', 'python', 'reddy']\n"
     ]
    }
   ],
   "source": [
    "# Function to count unique words in a text file\n",
    "def uniquecount(filename):\n",
    "    lcount=1\n",
    "    with open(filename,'r') as f:\n",
    "        fh=f.read()\n",
    "        s=fh.split()\n",
    "        for i in s:\n",
    "            li.append(i)\n",
    "        for i in li:\n",
    "            if i not in u:\n",
    "                u.append(i)\n",
    "        print(len(u))\n",
    "        print(u)\n",
    "u=[]\n",
    "li=[]\n",
    "uniquecount(\"DataFiles/data.txt\")\n",
    "        "
   ]
  },
  {
   "cell_type": "code",
   "execution_count": 7,
   "metadata": {},
   "outputs": [
    {
     "name": "stdout",
     "output_type": "stream",
     "text": [
      "1\n",
      "2\n",
      "3\n"
     ]
    }
   ],
   "source": [
    "a={\"1\":1,\"2\":2,\"3\":1}\n",
    "for i in a:\n",
    "    print(i)"
   ]
  },
  {
   "cell_type": "code",
   "execution_count": 1,
   "metadata": {},
   "outputs": [
    {
     "name": "stdout",
     "output_type": "stream",
     "text": [
      "hiii : 1\n",
      "how : 1\n",
      "are : 1\n",
      "you? : 1\n",
      "devisai : 1\n",
      "hello : 3\n",
      "devi : 1\n",
      "python : 1\n",
      "reddy : 1\n"
     ]
    }
   ],
   "source": [
    "# Function to print the frequency count of a text file\n",
    "def uniquecount(filename):\n",
    "    with open(filename,'r') as f:\n",
    "        fh=f.read().split()\n",
    "        for i in fh:\n",
    "            li.append(i)\n",
    "        for i in li:\n",
    "            if i not in u:\n",
    "                u.append(i)\n",
    "        #print(len(u))\n",
    "        #print(u)\n",
    "        for i in fh:\n",
    "            if i in d:\n",
    "                d[i]=d[i]+1\n",
    "            else:\n",
    "                d[i]=1\n",
    "        #print(d)\n",
    "        for i in d:\n",
    "            print(i,\":\",d[i])       \n",
    "d={}                    \n",
    "u=[]\n",
    "li=[]\n",
    "uniquecount(\"DataFiles/data.txt\")\n",
    "        "
   ]
  },
  {
   "cell_type": "code",
   "execution_count": null,
   "metadata": {},
   "outputs": [],
   "source": []
  }
 ],
 "metadata": {
  "kernelspec": {
   "display_name": "Python 3",
   "language": "python",
   "name": "python3"
  },
  "language_info": {
   "codemirror_mode": {
    "name": "ipython",
    "version": 3
   },
   "file_extension": ".py",
   "mimetype": "text/x-python",
   "name": "python",
   "nbconvert_exporter": "python",
   "pygments_lexer": "ipython3",
   "version": "3.7.3"
  }
 },
 "nbformat": 4,
 "nbformat_minor": 2
}
