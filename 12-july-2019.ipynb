{
 "cells": [
  {
   "cell_type": "code",
   "execution_count": 27,
   "metadata": {},
   "outputs": [
    {
     "name": "stdout",
     "output_type": "stream",
     "text": [
      "1 100 -2 4\n",
      "1\n"
     ]
    }
   ],
   "source": [
    "n=input().split()\n",
    "l=list(map(int,n))\n",
    "d={}\n",
    "for i in l:\n",
    "    z=0\n",
    "    s=str(i-z)\n",
    "    s=s.replace(\"-\",\"\")\n",
    "    if i not in d:\n",
    "        d[i]=s\n",
    "u=sorted(d.values())\n",
    "p=list(map(int,u))\n",
    "li=[]\n",
    "#print(min(p))\n",
    "for item in d.items():\n",
    "    if item[1]==str(min(p)):\n",
    "        li.append(item[0])\n",
    "print(min(li))"
   ]
  },
  {
   "cell_type": "code",
   "execution_count": 35,
   "metadata": {},
   "outputs": [
    {
     "name": "stdout",
     "output_type": "stream",
     "text": [
      "0 1 -1\n",
      "1\n"
     ]
    }
   ],
   "source": [
    "n=input().split()\n",
    "l=list(map(int,n))\n",
    "d={}\n",
    "for i in l:\n",
    "    z=0\n",
    "    s=str(i-z)\n",
    "    s=s.replace(\"-\",\"\")\n",
    "    if i not in d:\n",
    "        d[i]=int(s)\n",
    "u=sorted(d.values())\n",
    "#print(u)\n",
    "#print(d.keys())\n",
    "#p=list(map(int,u))\n",
    "li=[]\n",
    "#print(min(p))\n",
    "for item in d.items():\n",
    "    if item[1]==max(u):\n",
    "        li.append(item[0])\n",
    "print(max(li))"
   ]
  },
  {
   "cell_type": "code",
   "execution_count": 32,
   "metadata": {},
   "outputs": [
    {
     "name": "stdout",
     "output_type": "stream",
     "text": [
      "2\n"
     ]
    }
   ],
   "source": [
    "l=[2,6,8,19]\n",
    "li=[]\n",
    "for i in range(len(l)):\n",
    "    for j in range(i+1,len(l)):\n",
    "        d=abs(l[i]-l[j])\n",
    "        if d not in li:\n",
    "            li.append(d)\n",
    "print(min(li))\n",
    "        "
   ]
  },
  {
   "cell_type": "code",
   "execution_count": null,
   "metadata": {},
   "outputs": [],
   "source": [
    "\n",
    "fh_i=open('book.txt','r')\n",
    "fh_o=open('output.txt','w')\n",
    "count=0\n",
    "for Line in fh_i:\n",
    "    count+=1\n",
    "    if count==1:\n",
    "        fh_o.write(Line.strip()+'\\ttotal')\n",
    "    else:\n",
    "        marks=sum(list(map(int,Line.split()[1:])))\n",
    "        fh_o.write('\\n'+Line.strip()+'\\t'+str(marks))\n",
    "fh_i.close()\n",
    "fh_o.close()"
   ]
  },
  {
   "cell_type": "code",
   "execution_count": null,
   "metadata": {},
   "outputs": [],
   "source": [
    "fh=open('book.txt')\n",
    "print('Hi',fh.tell())\n",
    "data=fh.read()\n",
    "print('Hi',fh.tell())\n",
    "fh.seek(10)\n",
    "print('Hi',fh.tell())\n",
    "data=fh.read()\n",
    "print(data)\n",
    "fh.close()\n"
   ]
  }
 ],
 "metadata": {
  "kernelspec": {
   "display_name": "Python 3",
   "language": "python",
   "name": "python3"
  },
  "language_info": {
   "codemirror_mode": {
    "name": "ipython",
    "version": 3
   },
   "file_extension": ".py",
   "mimetype": "text/x-python",
   "name": "python",
   "nbconvert_exporter": "python",
   "pygments_lexer": "ipython3",
   "version": "3.7.3"
  }
 },
 "nbformat": 4,
 "nbformat_minor": 2
}
