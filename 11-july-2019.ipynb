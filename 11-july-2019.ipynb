{
 "cells": [
  {
   "cell_type": "code",
   "execution_count": 2,
   "metadata": {},
   "outputs": [
    {
     "name": "stdout",
     "output_type": "stream",
     "text": [
      "2\n",
      "Hii\n",
      "Ijj\n",
      "\n",
      "HII Hello Everyone\n",
      "IJJ Ifmmp Fwfszpof\n",
      "\n"
     ]
    }
   ],
   "source": [
    "n=int(input())\n",
    "for i in range(1,n+1):\n",
    "    l=[]\n",
    "    i=input()\n",
    "    for j in i:\n",
    "        if j.isalpha():\n",
    "            l.append(chr(ord(j)+1))\n",
    "        elif j.isdigit():\n",
    "            l.append(j)\n",
    "        else:\n",
    "            l.append(\" \")\n",
    "    for i in l:\n",
    "        print(i,end=\"\")\n",
    "    print(\"\\n\")"
   ]
  },
  {
   "cell_type": "code",
   "execution_count": 1,
   "metadata": {},
   "outputs": [
    {
     "name": "stdout",
     "output_type": "stream",
     "text": [
      "1\n",
      "0112233445566677\n",
      "False\n"
     ]
    }
   ],
   "source": [
    "li=[0,1,2,3,4,5,6,7,8,9]\n",
    "n=int(input())\n",
    "for i in range(1,n+1):\n",
    "    i=input()\n",
    "    l=[]\n",
    "    for j in i:\n",
    "        if j not in l:\n",
    "            l.append(int(j))\n",
    "    if len(l)==len(li):\n",
    "        print(\"True\")\n",
    "    else:\n",
    "        print(\"False\")"
   ]
  },
  {
   "cell_type": "code",
   "execution_count": null,
   "metadata": {},
   "outputs": [],
   "source": [
    "n=input()\n",
    "k=int(input())\n",
    "for i in n:\n",
    "    if i.isalpha():\n",
    "        "
   ]
  },
  {
   "cell_type": "code",
   "execution_count": 7,
   "metadata": {},
   "outputs": [
    {
     "name": "stdout",
     "output_type": "stream",
     "text": [
      "All-convoYs-9-be:Alert1.\n",
      "Epp-gsrzs]w-13-fi:Epivx5.\n",
      "\n"
     ]
    }
   ],
   "source": [
    "u=[\",\",\":\",\";\",\".\",\"-\"]\n",
    "i=input()\n",
    "l=[]\n",
    "for j in i:\n",
    "    if j.isalpha():\n",
    "        l.append(chr(ord(j)+4))\n",
    "    elif j.isdigit():\n",
    "        l.append((int(j)+4))\n",
    "    elif j in u:\n",
    "        l.append(j)\n",
    "for i in l:\n",
    "    print(i,end=\"\")\n",
    "#print(l)\n",
    "print(\"\\n\")"
   ]
  },
  {
   "cell_type": "code",
   "execution_count": 11,
   "metadata": {},
   "outputs": [
    {
     "name": "stdout",
     "output_type": "stream",
     "text": [
      "1 -2\n",
      "[1, -2]\n",
      "1\n"
     ]
    }
   ],
   "source": [
    "s=input().split()\n",
    "p=[]\n",
    "n=[]\n",
    "l=list(map(int,s))\n",
    "print(l)\n",
    "for i in l:\n",
    "    if i<0:\n",
    "        n.append(i)\n",
    "    else:\n",
    "        p.append(i)\n",
    "total=str(sum(p)+sum(n))\n",
    "print(total.replace(\"-\",\"\"))"
   ]
  },
  {
   "cell_type": "code",
   "execution_count": null,
   "metadata": {},
   "outputs": [],
   "source": []
  }
 ],
 "metadata": {
  "kernelspec": {
   "display_name": "Python 3",
   "language": "python",
   "name": "python3"
  },
  "language_info": {
   "codemirror_mode": {
    "name": "ipython",
    "version": 3
   },
   "file_extension": ".py",
   "mimetype": "text/x-python",
   "name": "python",
   "nbconvert_exporter": "python",
   "pygments_lexer": "ipython3",
   "version": "3.7.3"
  }
 },
 "nbformat": 4,
 "nbformat_minor": 2
}
