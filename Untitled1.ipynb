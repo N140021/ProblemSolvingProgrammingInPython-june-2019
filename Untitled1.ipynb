{
 "cells": [
  {
   "cell_type": "code",
   "execution_count": null,
   "metadata": {},
   "outputs": [],
   "source": [
    "# Function to print the frequency count of a text file\n",
    "    # Dictionary to be used:\n",
    "        # Keys-Unique words\n",
    "        #Values-Count of unique words\n",
    "    # Two lists:\n",
    "        # All words list\n",
    "        # Unique words list\n",
    "    # Set \n",
    "def uniquecount(filename):\n",
    "    with open(filename,'r') as f:\n",
    "        fh=f.read()\n",
    "        s=fh.split()\n",
    "        #for i in s:\n",
    "            #li.append(i)\n",
    "        #for i in li:\n",
    "            #if i not in u:\n",
    "                #u.append(i)\n",
    "        #print(len(u))\n",
    "        #print(u)\n",
    "        for i in s:\n",
    "            if i not in d.keys():\n",
    "                d[i]=1\n",
    "            else:\n",
    "                d[i]+=1\n",
    "        #print(d)\n",
    "        for i in d:\n",
    "            print(i,\":\",d[i])       \n",
    "d={}                    \n",
    "#u=[]\n",
    "#li=[]\n",
    "\n",
    "uniquecount()\n",
    "        "
   ]
  },
  {
   "cell_type": "code",
   "execution_count": null,
   "metadata": {},
   "outputs": [],
   "source": []
  }
 ],
 "metadata": {
  "kernelspec": {
   "display_name": "Python 3",
   "language": "python",
   "name": "python3"
  },
  "language_info": {
   "codemirror_mode": {
    "name": "ipython",
    "version": 3
   },
   "file_extension": ".py",
   "mimetype": "text/x-python",
   "name": "python",
   "nbconvert_exporter": "python",
   "pygments_lexer": "ipython3",
   "version": "3.7.3"
  }
 },
 "nbformat": 4,
 "nbformat_minor": 2
}
