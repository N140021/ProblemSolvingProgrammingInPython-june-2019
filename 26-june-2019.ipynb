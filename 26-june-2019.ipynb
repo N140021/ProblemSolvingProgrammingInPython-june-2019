{
 "cells": [
  {
   "cell_type": "code",
   "execution_count": 36,
   "metadata": {},
   "outputs": [
    {
     "name": "stdout",
     "output_type": "stream",
     "text": [
      "6\n"
     ]
    }
   ],
   "source": [
    "# Function to find largest number in a list\n",
    "\n",
    "def largest(li):\n",
    "    print(max(li))\n",
    "largest([1,5,2,6,3])"
   ]
  },
  {
   "cell_type": "code",
   "execution_count": 35,
   "metadata": {},
   "outputs": [
    {
     "name": "stdout",
     "output_type": "stream",
     "text": [
      "[2, 1]\n"
     ]
    },
    {
     "data": {
      "text/plain": [
       "1"
      ]
     },
     "execution_count": 35,
     "metadata": {},
     "output_type": "execute_result"
    }
   ],
   "source": [
    "# Function to find the second largest number in a list\n",
    "\n",
    "def secondlargest(li):\n",
    "    # Convert the list into a unique list\n",
    "    unique=[]\n",
    "    for n in li:\n",
    "        if n not in unique:\n",
    "            unique.append(n)\n",
    "    unique=sorted(unique,reverse=True)\n",
    "    print(unique)\n",
    "    if len(unique) > 1:\n",
    "        return unique[1]\n",
    "    return -1\n",
    "secondlargest([1,2])\n",
    "    \n",
    "    "
   ]
  },
  {
   "cell_type": "code",
   "execution_count": 33,
   "metadata": {},
   "outputs": [
    {
     "name": "stdout",
     "output_type": "stream",
     "text": [
      "[1, 2, 3, 4, 5, 7, 8]\n"
     ]
    },
    {
     "data": {
      "text/plain": [
       "5"
      ]
     },
     "execution_count": 33,
     "metadata": {},
     "output_type": "execute_result"
    }
   ],
   "source": [
    "#def fifthleast(li):\n",
    "\n",
    "def fifthleast(li):\n",
    "    # Convert the list into a unique list\n",
    "    unique=[]\n",
    "    for n in li:\n",
    "        if n not in unique:\n",
    "            unique.append(n)\n",
    "    unique=sorted(unique)\n",
    "    print(unique)\n",
    "    if len(unique)>1:\n",
    "        return unique[4]\n",
    "    return -1\n",
    "fifthleast([1,2,3,4,2,5,8,7,1,2])\n"
   ]
  },
  {
   "cell_type": "code",
   "execution_count": 40,
   "metadata": {},
   "outputs": [
    {
     "name": "stdout",
     "output_type": "stream",
     "text": [
      "[79, 9, 6, 5, 3, 2, 1]\n"
     ]
    },
    {
     "data": {
      "text/plain": [
       "3"
      ]
     },
     "execution_count": 40,
     "metadata": {},
     "output_type": "execute_result"
    }
   ],
   "source": [
    "# def klargest element\n",
    "\n",
    "def kthlargest(li,k):\n",
    "    # Convert the list into a unique list\n",
    "    unique=[]\n",
    "    for n in li:\n",
    "        if n not in unique:\n",
    "            unique.append(n)\n",
    "    unique=sorted(unique,reverse=True)\n",
    "    print(unique)\n",
    "    if len(unique) >=k:\n",
    "        return unique[k-1]\n",
    "    return -1\n",
    "kthlargest([1,2,3,5,6,79,9],5)"
   ]
  },
  {
   "cell_type": "code",
   "execution_count": 43,
   "metadata": {},
   "outputs": [
    {
     "name": "stdout",
     "output_type": "stream",
     "text": [
      "[1, 2, 3, 4, 6, 8]\n"
     ]
    },
    {
     "data": {
      "text/plain": [
       "4"
      ]
     },
     "execution_count": 43,
     "metadata": {},
     "output_type": "execute_result"
    }
   ],
   "source": [
    "# def ksmallest \n",
    "\n",
    "def kthsmallest(li,k):\n",
    "    # Convert the list into a unique list\n",
    "    unique=[]\n",
    "    for n in li:\n",
    "        if n not in unique:\n",
    "            unique.append(n)\n",
    "    unique=sorted(unique)\n",
    "    print(unique)\n",
    "    if len(unique) >=k:\n",
    "        return unique[k-1]\n",
    "    return -1\n",
    "kthsmallest([1,2,3,4,6,4,8],4)"
   ]
  },
  {
   "cell_type": "code",
   "execution_count": 73,
   "metadata": {},
   "outputs": [
    {
     "name": "stdout",
     "output_type": "stream",
     "text": [
      "{1: 2, 2: 2, 9: 2}\n"
     ]
    },
    {
     "data": {
      "text/plain": [
       "1"
      ]
     },
     "execution_count": 73,
     "metadata": {},
     "output_type": "execute_result"
    }
   ],
   "source": [
    "# Function to identify the element with highest frequency in a list\n",
    "def highestfrequency(li):\n",
    "    u={}\n",
    "    for i in li:\n",
    "        if i not in u:\n",
    "            u[i]=1\n",
    "        else:\n",
    "            u[i]+=1\n",
    "    print(u)\n",
    "    # Getting all frequencies into a list\n",
    "    #freq=sorted(u.values())\n",
    "    #maxfreq=max(freq)\n",
    "    maxfreq=max(u.values())\n",
    "    # Extract all keys with maxfreq in a list\n",
    "    maxfreqE=[]\n",
    "    # Identify the smallest number with maximum frequency\n",
    "    #print(u.items())\n",
    "    for item in u.items():\n",
    "        if item[1]==maxfreq:\n",
    "            maxfreqE.append(item[0])\n",
    "    # Select the minimum from the keys\n",
    "    return min(maxfreqE)\n",
    "    #return max(maxfreqE)\n",
    "highestfrequency([1,2,2,1,9,9])\n",
    "    "
   ]
  },
  {
   "cell_type": "code",
   "execution_count": 98,
   "metadata": {},
   "outputs": [
    {
     "name": "stdout",
     "output_type": "stream",
     "text": [
      "{1: 2, 2: 2, 3: 1, 4: 2, 9: 1}\n",
      "[1, 1, 2, 2, 2]\n",
      "1\n"
     ]
    },
    {
     "data": {
      "text/plain": [
       "3"
      ]
     },
     "execution_count": 98,
     "metadata": {},
     "output_type": "execute_result"
    }
   ],
   "source": [
    "# Function to identify second highest frequency element\n",
    "# If there are many such elements,return the smallest\n",
    "\n",
    "\n",
    "def secondhighestfrequency(li):\n",
    "    u={}\n",
    "    l=[]\n",
    "    for i in li:\n",
    "        if i not in u:\n",
    "            u[i]=1\n",
    "        else:\n",
    "            u[i]+=1\n",
    "    print(u)\n",
    "    # Getting all frequencies into a list\n",
    "    freq=sorted(u.values())\n",
    "    print(freq)\n",
    "    for i in freq:\n",
    "        if i not in l:\n",
    "            l.append(i)\n",
    "    l=sorted(l,reverse=True)\n",
    "    maxfreq=l[1]\n",
    "    print(maxfreq)\n",
    "    # Extract all keys with maxfreq in a list\n",
    "    maxfreqE=[]\n",
    "    # Identify the smallest number with maximum frequency\n",
    "    #print(u.items())\n",
    "    for item in u.items():\n",
    "        if item[1]==maxfreq:\n",
    "            maxfreqE.append(item[0])\n",
    "    # Select the minimum from the keys\n",
    "    return min(maxfreqE)\n",
    "    #return max(maxfreqE)\n",
    "secondhighestfrequency([1,2,3,2,1,4,4,9])\n",
    "#secondhighestfrequency([1,2,1,2,4,5])\n",
    "    "
   ]
  },
  {
   "cell_type": "code",
   "execution_count": 123,
   "metadata": {},
   "outputs": [
    {
     "name": "stdout",
     "output_type": "stream",
     "text": [
      "{1: 2, 2: 2, 3: 2, 4: 3, 9: 1, 5: 1}\n",
      "[1, 1, 2, 2, 2, 3]\n"
     ]
    },
    {
     "data": {
      "text/plain": [
       "5"
      ]
     },
     "execution_count": 123,
     "metadata": {},
     "output_type": "execute_result"
    }
   ],
   "source": [
    "# Function to identify kth largest frequency element\n",
    "# If there are many such elements,return the smallest\n",
    "\n",
    "\n",
    "def kthhighestfrequency(li,k):\n",
    "    u={}\n",
    "    l=[]\n",
    "    for i in li:\n",
    "        if i not in u:\n",
    "            u[i]=1\n",
    "        else:\n",
    "            u[i]+=1\n",
    "    print(u)\n",
    "    # Getting all frequencies into a list\n",
    "    freq=sorted(u.values())\n",
    "    print(freq)\n",
    "    for i in freq:\n",
    "        if i not in l:\n",
    "            l.append(i)\n",
    "    l=sorted(l,reverse=True)\n",
    "    if len(l)<k:\n",
    "        return -1\n",
    "    # Extract all keys with maxfreq in a list\n",
    "    maxfreqE=[]\n",
    "    # Identify the smallest number with maximum frequency\n",
    "    #print(u.items())\n",
    "    for item in u.items():\n",
    "        if item[1]==l[k-1]:\n",
    "            maxfreqE.append(item[0])\n",
    "    # Select the minimum from the keys\n",
    "    return min(maxfreqE)\n",
    "    #return max(maxfreqE)\n",
    "#highestfrequency([1,2,3,2,1,4,4,9])\n",
    "kthhighestfrequency([1,2,3,3,2,1,4,4,4,9,5],3)\n",
    "    "
   ]
  },
  {
   "cell_type": "code",
   "execution_count": 122,
   "metadata": {},
   "outputs": [
    {
     "name": "stdout",
     "output_type": "stream",
     "text": [
      "{1: 2, 2: 2, 3: 2, 4: 3, 9: 1, 5: 1}\n",
      "[1, 1, 2, 2, 2, 3]\n"
     ]
    },
    {
     "data": {
      "text/plain": [
       "4"
      ]
     },
     "execution_count": 122,
     "metadata": {},
     "output_type": "execute_result"
    }
   ],
   "source": [
    "# Function to identify kth smallest frequency element\n",
    "# If there are many such elements,return the smallest\n",
    "\n",
    "\n",
    "def kthsmallestfrequency(li,k):\n",
    "    u={}\n",
    "    l=[]\n",
    "    for i in li:\n",
    "        if i not in u:\n",
    "            u[i]=1\n",
    "        else:\n",
    "            u[i]+=1\n",
    "    print(u)\n",
    "    # Getting all frequencies into a list\n",
    "    freq=sorted(u.values())\n",
    "    print(freq)\n",
    "    for i in freq:\n",
    "        if i not in l:\n",
    "            l.append(i)\n",
    "    l=sorted(l)\n",
    "    if len(l)<k:\n",
    "        return -1\n",
    "    max=l[k-1]\n",
    "    # Extract all keys with maxfreq in a list\n",
    "    maxfreqE=[]\n",
    "    # Identify the smallest number with maximum frequency\n",
    "    #print(u.items())\n",
    "    for item in u.items():\n",
    "        if item[1]==max:\n",
    "            maxfreqE.append(item[0])\n",
    "    # Select the minimum from the keys\n",
    "    return min(maxfreqE)\n",
    "    #return max(maxfreqE)\n",
    "#highestfrequency([1,2,3,2,1,4,4,9])\n",
    "kthsmallestfrequency([1,2,3,3,2,1,4,4,4,9,5],3)\n",
    "    "
   ]
  },
  {
   "cell_type": "code",
   "execution_count": null,
   "metadata": {},
   "outputs": [],
   "source": []
  }
 ],
 "metadata": {
  "kernelspec": {
   "display_name": "Python 3",
   "language": "python",
   "name": "python3"
  },
  "language_info": {
   "codemirror_mode": {
    "name": "ipython",
    "version": 3
   },
   "file_extension": ".py",
   "mimetype": "text/x-python",
   "name": "python",
   "nbconvert_exporter": "python",
   "pygments_lexer": "ipython3",
   "version": "3.7.3"
  }
 },
 "nbformat": 4,
 "nbformat_minor": 2
}
