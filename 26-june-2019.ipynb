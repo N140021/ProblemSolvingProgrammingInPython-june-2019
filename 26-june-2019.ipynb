{
 "cells": [
  {
   "cell_type": "code",
   "execution_count": 36,
   "metadata": {},
   "outputs": [
    {
     "name": "stdout",
     "output_type": "stream",
     "text": [
      "6\n"
     ]
    }
   ],
   "source": [
    "# Function to find largest number in a list\n",
    "\n",
    "def largest(li):\n",
    "    print(max(li))\n",
    "largest([1,5,2,6,3])"
   ]
  },
  {
   "cell_type": "code",
   "execution_count": 35,
   "metadata": {},
   "outputs": [
    {
     "name": "stdout",
     "output_type": "stream",
     "text": [
      "[2, 1]\n"
     ]
    },
    {
     "data": {
      "text/plain": [
       "1"
      ]
     },
     "execution_count": 35,
     "metadata": {},
     "output_type": "execute_result"
    }
   ],
   "source": [
    "# Function to find the second largest number in a list\n",
    "\n",
    "def secondlargest(li):\n",
    "    # Convert the list into a unique list\n",
    "    unique=[]\n",
    "    for n in li:\n",
    "        if n not in unique:\n",
    "            unique.append(n)\n",
    "    unique=sorted(unique,reverse=True)\n",
    "    print(unique)\n",
    "    if len(unique) > 1:\n",
    "        return unique[1]\n",
    "    return -1\n",
    "secondlargest([1,2])\n",
    "    \n",
    "    "
   ]
  },
  {
   "cell_type": "code",
   "execution_count": 33,
   "metadata": {},
   "outputs": [
    {
     "name": "stdout",
     "output_type": "stream",
     "text": [
      "[1, 2, 3, 4, 5, 7, 8]\n"
     ]
    },
    {
     "data": {
      "text/plain": [
       "5"
      ]
     },
     "execution_count": 33,
     "metadata": {},
     "output_type": "execute_result"
    }
   ],
   "source": [
    "#def fifthleast(li):\n",
    "\n",
    "def fifthleast(li):\n",
    "    # Convert the list into a unique list\n",
    "    unique=[]\n",
    "    for n in li:\n",
    "        if n not in unique:\n",
    "            unique.append(n)\n",
    "    unique=sorted(unique)\n",
    "    print(unique)\n",
    "    if len(unique)>1:\n",
    "        return unique[4]\n",
    "    return -1\n",
    "fifthleast([1,2,3,4,2,5,8,7,1,2])\n"
   ]
  },
  {
   "cell_type": "code",
   "execution_count": 40,
   "metadata": {},
   "outputs": [
    {
     "name": "stdout",
     "output_type": "stream",
     "text": [
      "[79, 9, 6, 5, 3, 2, 1]\n"
     ]
    },
    {
     "data": {
      "text/plain": [
       "3"
      ]
     },
     "execution_count": 40,
     "metadata": {},
     "output_type": "execute_result"
    }
   ],
   "source": [
    "# def klargest element\n",
    "\n",
    "def kthlargest(li,k):\n",
    "    # Convert the list into a unique list\n",
    "    unique=[]\n",
    "    for n in li:\n",
    "        if n not in unique:\n",
    "            unique.append(n)\n",
    "    unique=sorted(unique,reverse=True)\n",
    "    print(unique)\n",
    "    if len(unique) >=k:\n",
    "        return unique[k-1]\n",
    "    return -1\n",
    "kthlargest([1,2,3,5,6,79,9],5)"
   ]
  },
  {
   "cell_type": "code",
   "execution_count": 43,
   "metadata": {},
   "outputs": [
    {
     "name": "stdout",
     "output_type": "stream",
     "text": [
      "[1, 2, 3, 4, 6, 8]\n"
     ]
    },
    {
     "data": {
      "text/plain": [
       "4"
      ]
     },
     "execution_count": 43,
     "metadata": {},
     "output_type": "execute_result"
    }
   ],
   "source": [
    "# def ksmallest \n",
    "\n",
    "def kthsmallest(li,k):\n",
    "    # Convert the list into a unique list\n",
    "    unique=[]\n",
    "    for n in li:\n",
    "        if n not in unique:\n",
    "            unique.append(n)\n",
    "    unique=sorted(unique)\n",
    "    print(unique)\n",
    "    if len(unique) >=k:\n",
    "        return unique[k-1]\n",
    "    return -1\n",
    "kthsmallest([1,2,3,4,6,4,8],4)"
   ]
  },
  {
   "cell_type": "code",
   "execution_count": 73,
   "metadata": {},
   "outputs": [
    {
     "name": "stdout",
     "output_type": "stream",
     "text": [
      "{1: 2, 2: 2, 9: 2}\n"
     ]
    },
    {
     "data": {
      "text/plain": [
       "1"
      ]
     },
     "execution_count": 73,
     "metadata": {},
     "output_type": "execute_result"
    }
   ],
   "source": [
    "# Function to identify the element with highest frequency in a list\n",
    "def highestfrequency(li):\n",
    "    u={}\n",
    "    for i in li:\n",
    "        if i not in u:\n",
    "            u[i]=1\n",
    "        else:\n",
    "            u[i]+=1\n",
    "    print(u)\n",
    "    # Getting all frequencies into a list\n",
    "    #freq=sorted(u.values())\n",
    "    #maxfreq=max(freq)\n",
    "    maxfreq=max(u.values())\n",
    "    # Extract all keys with maxfreq in a list\n",
    "    maxfreqE=[]\n",
    "    # Identify the smallest number with maximum frequency\n",
    "    #print(u.items())\n",
    "    for item in u.items():\n",
    "        if item[1]==maxfreq:\n",
    "            maxfreqE.append(item[0])\n",
    "    # Select the minimum from the keys\n",
    "    return min(maxfreqE)\n",
    "    #return max(maxfreqE)\n",
    "highestfrequency([1,2,2,1,9,9])\n",
    "    "
   ]
  },
  {
   "cell_type": "code",
   "execution_count": 98,
   "metadata": {},
   "outputs": [
    {
     "name": "stdout",
     "output_type": "stream",
     "text": [
      "{1: 2, 2: 2, 3: 1, 4: 2, 9: 1}\n",
      "[1, 1, 2, 2, 2]\n",
      "1\n"
     ]
    },
    {
     "data": {
      "text/plain": [
       "3"
      ]
     },
     "execution_count": 98,
     "metadata": {},
     "output_type": "execute_result"
    }
   ],
   "source": [
    "# Function to identify second highest frequency element\n",
    "# If there are many such elements,return the smallest\n",
    "\n",
    "\n",
    "def secondhighestfrequency(li):\n",
    "    u={}\n",
    "    l=[]\n",
    "    for i in li:\n",
    "        if i not in u:\n",
    "            u[i]=1\n",
    "        else:\n",
    "            u[i]+=1\n",
    "    print(u)\n",
    "    # Getting all frequencies into a list\n",
    "    freq=sorted(u.values())\n",
    "    print(freq)\n",
    "    for i in freq:\n",
    "        if i not in l:\n",
    "            l.append(i)\n",
    "    l=sorted(l,reverse=True)\n",
    "    maxfreq=l[1]\n",
    "    print(maxfreq)\n",
    "    # Extract all keys with maxfreq in a list\n",
    "    maxfreqE=[]\n",
    "    # Identify the smallest number with maximum frequency\n",
    "    #print(u.items())\n",
    "    for item in u.items():\n",
    "        if item[1]==maxfreq:\n",
    "            maxfreqE.append(item[0])\n",
    "    # Select the minimum from the keys\n",
    "    return min(maxfreqE)\n",
    "    #return max(maxfreqE)\n",
    "secondhighestfrequency([1,2,3,2,1,4,4,9])\n",
    "#secondhighestfrequency([1,2,1,2,4,5])\n",
    "    "
   ]
  },
  {
   "cell_type": "code",
   "execution_count": 2,
   "metadata": {},
   "outputs": [
    {
     "name": "stdout",
     "output_type": "stream",
     "text": [
      "{1: 2, 2: 2, 3: 2, 4: 3, 9: 1, 5: 1}\n",
      "[1, 1, 2, 2, 2, 3]\n"
     ]
    },
    {
     "data": {
      "text/plain": [
       "5"
      ]
     },
     "execution_count": 2,
     "metadata": {},
     "output_type": "execute_result"
    }
   ],
   "source": [
    "# Function to identify kth largest frequency element\n",
    "# If there are many such elements,return the smallest\n",
    "\n",
    "\n",
    "def kthhighestfrequency(li,k):\n",
    "    u={}\n",
    "    l=[]\n",
    "    for i in li:\n",
    "        if i not in u:\n",
    "            u[i]=1\n",
    "        else:\n",
    "            u[i]+=1\n",
    "    print(u)\n",
    "    # Getting all frequencies into a list\n",
    "    freq=sorted(u.values())\n",
    "    print(freq)\n",
    "    for i in freq:\n",
    "        if i not in l:\n",
    "            l.append(i)\n",
    "    l=sorted(l,reverse=True)\n",
    "    if len(l)<k:\n",
    "        return -1\n",
    "    # Extract all keys with maxfreq in a list\n",
    "    maxfreqE=[]\n",
    "    # Identify the smallest number with maximum frequency\n",
    "    #print(u.items())\n",
    "    for item in u.items():\n",
    "        if item[1]==l[k-1]:\n",
    "            maxfreqE.append(item[0])\n",
    "    # Select the minimum from the keys\n",
    "    return min(maxfreqE)\n",
    "    #return max(maxfreqE)\n",
    "#highestfrequency([1,2,3,2,1,4,4,9])\n",
    "kthhighestfrequency([1,2,3,3,2,1,4,4,4,9,5],3)\n",
    "    "
   ]
  },
  {
   "cell_type": "code",
   "execution_count": 125,
   "metadata": {},
   "outputs": [
    {
     "name": "stdout",
     "output_type": "stream",
     "text": [
      "{'d': 3, 'e': 2, 'v': 1, 'i': 1}\n",
      "[1, 1, 2, 3]\n"
     ]
    },
    {
     "data": {
      "text/plain": [
       "'d'"
      ]
     },
     "execution_count": 125,
     "metadata": {},
     "output_type": "execute_result"
    }
   ],
   "source": [
    "# Function to identify kth smallest frequency element\n",
    "# If there are many such elements,return the smallest\n",
    "\n",
    "\n",
    "def kthsmallestfrequency(li,k):\n",
    "    u={}\n",
    "    l=[]\n",
    "    for i in li:\n",
    "        if i not in u:\n",
    "            u[i]=1\n",
    "        else:\n",
    "            u[i]+=1\n",
    "    print(u)\n",
    "    # Getting all frequencies into a list\n",
    "    freq=sorted(u.values())\n",
    "    print(freq)\n",
    "    for i in freq:\n",
    "        if i not in l:\n",
    "            l.append(i)\n",
    "    l=sorted(l)\n",
    "    if len(l)<k:\n",
    "        return -1\n",
    "    max=l[k-1]\n",
    "    # Extract all keys with maxfreq in a list\n",
    "    maxfreqE=[]\n",
    "    # Identify the smallest number with maximum frequency\n",
    "    #print(u.items())\n",
    "    for item in u.items():\n",
    "        if item[1]==max:\n",
    "            maxfreqE.append(item[0])\n",
    "    # Select the minimum from the keys\n",
    "    return min(maxfreqE)\n",
    "    #return max(maxfreqE)\n",
    "#highestfrequency([1,2,3,2,1,4,4,9])\n",
    "#kthsmallestfrequency([1,2,3,3,2,1,4,4,4,9,5],3)\n",
    "kthsmallestfrequency(\"dddeevi\",3)\n",
    "    "
   ]
  },
  {
   "cell_type": "code",
   "execution_count": 20,
   "metadata": {},
   "outputs": [
    {
     "name": "stdout",
     "output_type": "stream",
     "text": [
      "s\n",
      "g\n",
      "h\n",
      "e\n",
      "w\n",
      "r\n",
      "n\n",
      "k\n",
      "-1\n"
     ]
    },
    {
     "ename": "IndexError",
     "evalue": "list index out of range",
     "output_type": "error",
     "traceback": [
      "\u001b[1;31m---------------------------------------------------------------------------\u001b[0m",
      "\u001b[1;31mIndexError\u001b[0m                                Traceback (most recent call last)",
      "\u001b[1;32m<ipython-input-20-5aa32b560b17>\u001b[0m in \u001b[0;36m<module>\u001b[1;34m\u001b[0m\n\u001b[0;32m     38\u001b[0m         \u001b[0ms\u001b[0m\u001b[1;33m=\u001b[0m\u001b[0mf\u001b[0m\u001b[1;33m.\u001b[0m\u001b[0mreadline\u001b[0m\u001b[1;33m(\u001b[0m\u001b[1;33m)\u001b[0m\u001b[1;33m\u001b[0m\u001b[1;33m\u001b[0m\u001b[0m\n\u001b[0;32m     39\u001b[0m         \u001b[0mk\u001b[0m\u001b[1;33m=\u001b[0m\u001b[0mint\u001b[0m\u001b[1;33m(\u001b[0m\u001b[0mf\u001b[0m\u001b[1;33m.\u001b[0m\u001b[0mreadline\u001b[0m\u001b[1;33m(\u001b[0m\u001b[1;33m)\u001b[0m\u001b[1;33m)\u001b[0m\u001b[1;33m\u001b[0m\u001b[1;33m\u001b[0m\u001b[0m\n\u001b[1;32m---> 40\u001b[1;33m         \u001b[0mkthhighestfrequency\u001b[0m\u001b[1;33m(\u001b[0m\u001b[0ms\u001b[0m\u001b[1;33m,\u001b[0m\u001b[0mk\u001b[0m\u001b[1;33m)\u001b[0m\u001b[1;33m\u001b[0m\u001b[1;33m\u001b[0m\u001b[0m\n\u001b[0m\u001b[0;32m     41\u001b[0m \u001b[1;33m\u001b[0m\u001b[0m\n",
      "\u001b[1;32m<ipython-input-20-5aa32b560b17>\u001b[0m in \u001b[0;36mkthhighestfrequency\u001b[1;34m(li, k)\u001b[0m\n\u001b[0;32m     26\u001b[0m     \u001b[1;31m#print(u.items())\u001b[0m\u001b[1;33m\u001b[0m\u001b[1;33m\u001b[0m\u001b[1;33m\u001b[0m\u001b[0m\n\u001b[0;32m     27\u001b[0m     \u001b[1;32mfor\u001b[0m \u001b[0mitem\u001b[0m \u001b[1;32min\u001b[0m \u001b[0mu\u001b[0m\u001b[1;33m.\u001b[0m\u001b[0mitems\u001b[0m\u001b[1;33m(\u001b[0m\u001b[1;33m)\u001b[0m\u001b[1;33m:\u001b[0m\u001b[1;33m\u001b[0m\u001b[1;33m\u001b[0m\u001b[0m\n\u001b[1;32m---> 28\u001b[1;33m         \u001b[1;32mif\u001b[0m \u001b[0mitem\u001b[0m\u001b[1;33m[\u001b[0m\u001b[1;36m1\u001b[0m\u001b[1;33m]\u001b[0m\u001b[1;33m==\u001b[0m\u001b[0ml\u001b[0m\u001b[1;33m[\u001b[0m\u001b[0mk\u001b[0m\u001b[1;33m-\u001b[0m\u001b[1;36m1\u001b[0m\u001b[1;33m]\u001b[0m\u001b[1;33m:\u001b[0m\u001b[1;33m\u001b[0m\u001b[1;33m\u001b[0m\u001b[0m\n\u001b[0m\u001b[0;32m     29\u001b[0m             \u001b[0mmaxfreqE\u001b[0m\u001b[1;33m.\u001b[0m\u001b[0mappend\u001b[0m\u001b[1;33m(\u001b[0m\u001b[0mitem\u001b[0m\u001b[1;33m[\u001b[0m\u001b[1;36m0\u001b[0m\u001b[1;33m]\u001b[0m\u001b[1;33m)\u001b[0m\u001b[1;33m\u001b[0m\u001b[1;33m\u001b[0m\u001b[0m\n\u001b[0;32m     30\u001b[0m     \u001b[1;31m# Select the minimum from the keys\u001b[0m\u001b[1;33m\u001b[0m\u001b[1;33m\u001b[0m\u001b[1;33m\u001b[0m\u001b[0m\n",
      "\u001b[1;31mIndexError\u001b[0m: list index out of range"
     ]
    }
   ],
   "source": [
    "# Function to identify kth largest frequency element\n",
    "# If there are many such elements,return the smallest\n",
    "\n",
    "\n",
    "def kthhighestfrequency(li,k):\n",
    "    u={}\n",
    "    l=[]\n",
    "    for i in li:\n",
    "        if i not in u:\n",
    "            u[i]=1\n",
    "        else:\n",
    "            u[i]+=1\n",
    "    #print(u)\n",
    "    # Getting all frequencies into a list\n",
    "    freq=u.values()\n",
    "    #print(freq)\n",
    "    for i in freq:\n",
    "        if i not in l:\n",
    "            l.append(i)\n",
    "    l=sorted(l,reverse=True)\n",
    "    if len(l)<k:\n",
    "        print(-1)\n",
    "    # Extract all keys with maxfreq in a list\n",
    "    maxfreqE=[]\n",
    "    # Identify the smallest number with maximum frequency\n",
    "    #print(u.items())\n",
    "    for item in u.items():\n",
    "        if item[1]==l[k-1]:\n",
    "            maxfreqE.append(item[0])\n",
    "    # Select the minimum from the keys\n",
    "    print(min(maxfreqE))\n",
    "    #return max(maxfreqE)\n",
    "#highestfrequency([1,2,3,2,1,4,4,9])\n",
    "#kthhighestfrequency(\"dddeevi\",3)\n",
    "with open(\"DataFiles/1.txt\",'r') as f:\n",
    "    t=int(f.readline())\n",
    "    for i in range(1,t+1):\n",
    "        s=f.readline()\n",
    "        k=int(f.readline())\n",
    "        kthhighestfrequency(s,k)\n",
    "    "
   ]
  },
  {
   "cell_type": "code",
   "execution_count": null,
   "metadata": {},
   "outputs": [],
   "source": []
  }
 ],
 "metadata": {
  "kernelspec": {
   "display_name": "Python 3",
   "language": "python",
   "name": "python3"
  },
  "language_info": {
   "codemirror_mode": {
    "name": "ipython",
    "version": 3
   },
   "file_extension": ".py",
   "mimetype": "text/x-python",
   "name": "python",
   "nbconvert_exporter": "python",
   "pygments_lexer": "ipython3",
   "version": "3.7.3"
  }
 },
 "nbformat": 4,
 "nbformat_minor": 2
}
