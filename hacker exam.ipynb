{
 "cells": [
  {
   "cell_type": "code",
   "execution_count": 2,
   "metadata": {},
   "outputs": [
    {
     "name": "stdout",
     "output_type": "stream",
     "text": [
      "devisai\n",
      "2 4\n",
      "vis\n",
      "sivei"
     ]
    }
   ],
   "source": [
    "n=input()\n",
    "t=input().split()\n",
    "t1,t2=int(t[0]),int(t[1])\n",
    "t2=t2+1\n",
    "s=n[t1:t2]\n",
    "\n",
    "print(s)\n",
    "r=s[::-1]\n",
    "l=[]\n",
    "a=[]\n",
    "print(r,end=\"\")\n",
    "for i in n:\n",
    "    l.append(i)\n",
    "for i in range(1,len(l)+1):\n",
    "    if i>=t1 and i<=t2:\n",
    "        a.append(i)\n",
    "#print(a)\n",
    "for i in range(1,len(l)):\n",
    "    if i not in a:\n",
    "        print(l[i],end=\"\")"
   ]
  },
  {
   "cell_type": "code",
   "execution_count": 13,
   "metadata": {},
   "outputs": [
    {
     "name": "stdout",
     "output_type": "stream",
     "text": [
      "abbbcccgh\n",
      "(1, 'a')  (3, 'b')  (3, 'c')  (1, 'g')  (1, 'h')  "
     ]
    }
   ],
   "source": [
    "n=input()\n",
    "l=[]\n",
    "for i in n:\n",
    "    if (n.count(i),i) not in l:\n",
    "        l.append((n.count(i),i))\n",
    "for i in l:\n",
    "    print(i,\" \",end=\"\")"
   ]
  },
  {
   "cell_type": "code",
   "execution_count": 4,
   "metadata": {},
   "outputs": [
    {
     "name": "stdout",
     "output_type": "stream",
     "text": [
      "2\n",
      "1 2\n",
      "2 3\n"
     ]
    }
   ],
   "source": [
    "n=int(input())\n",
    "l=[]\n",
    "for i in range(1,n+1):\n",
    "    i=input()\n",
    "    l.append(i)\n",
    "l=sorted(l)"
   ]
  },
  {
   "cell_type": "code",
   "execution_count": null,
   "metadata": {},
   "outputs": [],
   "source": [
    " "
   ]
  }
 ],
 "metadata": {
  "kernelspec": {
   "display_name": "Python 3",
   "language": "python",
   "name": "python3"
  },
  "language_info": {
   "codemirror_mode": {
    "name": "ipython",
    "version": 3
   },
   "file_extension": ".py",
   "mimetype": "text/x-python",
   "name": "python",
   "nbconvert_exporter": "python",
   "pygments_lexer": "ipython3",
   "version": "3.7.3"
  }
 },
 "nbformat": 4,
 "nbformat_minor": 2
}
