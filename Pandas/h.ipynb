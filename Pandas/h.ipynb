{
 "cells": [
  {
   "cell_type": "code",
   "execution_count": 29,
   "metadata": {},
   "outputs": [
    {
     "name": "stdout",
     "output_type": "stream",
     "text": [
      "1\n",
      "5 10\n",
      "10\n",
      "1 0\n",
      "1 0\n",
      "0 0\n",
      "1 0\n",
      "0 1\n",
      "1 0\n",
      "0 1\n",
      "1 1\n",
      "1 1\n",
      "1 1\n",
      "7 5\n",
      "['5', '10']\n",
      "85\n"
     ]
    }
   ],
   "source": [
    "N=int(input())\n",
    "for i in range(1,N+1):\n",
    "    b=input().split()\n",
    "    b1,b2=int(b[0]),int(b[1])\n",
    "    n=int(input())\n",
    "    count=0\n",
    "    sum=0\n",
    "    for i in range(1,n+1):\n",
    "        p=input().split()\n",
    "        p1,p2=int(p[0]),int(p[1])\n",
    "        if p1==1:\n",
    "            sum+=1\n",
    "        if p2==1:\n",
    "            count+=1\n",
    "    #print(sum,count)\n",
    "    b=sorted(b,reverse=True)\n",
    "    #print(type(b))\n",
    "    if sum>count:\n",
    "        #print((sum*(int(min(b))))+(count*(int(max(b)))))\n",
    "        print((sum*(int(b[0])))+(count*(int(b[1]))))\n",
    "    else:\n",
    "        #print((count*(int(min(b))))+(sum*(int(max(b)))))\n",
    "        print((count*(int(b[1])))+(sum*(int(b[0]))))\n",
    "       \n",
    "            "
   ]
  },
  {
   "cell_type": "code",
   "execution_count": 54,
   "metadata": {},
   "outputs": [
    {
     "name": "stdout",
     "output_type": "stream",
     "text": [
      "1\n",
      "fn f0\n",
      "invalid\n",
      "valid\n"
     ]
    }
   ],
   "source": [
    "n=int(input())\n",
    "count=0\n",
    "sum=0\n",
    "for i in range(1,n+1):\n",
    "    s=input().split()\n",
    "    s1=s[0]\n",
    "    s2=s[1]\n",
    "    if len(s1)==len(s2):\n",
    "        for i in s1:\n",
    "            if i in s2:\n",
    "                count+=1\n",
    "            \n",
    "        for j in s2:\n",
    "            if j in s1:\n",
    "                sum+=1\n",
    "    if sum==count and sum!=0 and count!=0:\n",
    "        for i in s1:\n",
    "            if i not in s2:\n",
    "                print(\"invalid\")\n",
    "                break\n",
    "        "
   ]
  },
  {
   "cell_type": "code",
   "execution_count": 108,
   "metadata": {},
   "outputs": [
    {
     "name": "stdout",
     "output_type": "stream",
     "text": [
      "33X222-44\n",
      "valid\n"
     ]
    }
   ],
   "source": [
    "def innocent(s):\n",
    "    v=[\"A\",\"E\",\"I\",\"O\",\"U\",\"Y\"]\n",
    "    a=int(s[0])+int(s[1])\n",
    "    b=int(s[3])+int(s[4])\n",
    "    c=int(s[4])+int(s[5])\n",
    "    d=int(s[7])+int(s[8])\n",
    "    e=s[2]\n",
    "    if a%2==0 and b%2==0 and c%2==0 and d%2==0 and e not in v:\n",
    "        print(\"valid\")\n",
    "    else:\n",
    "        print(\"invalid\")\n",
    "        \n",
    "s=input()\n",
    "innocent(s)"
   ]
  },
  {
   "cell_type": "code",
   "execution_count": 97,
   "metadata": {},
   "outputs": [
    {
     "data": {
      "text/plain": [
       "'i'"
      ]
     },
     "execution_count": 97,
     "metadata": {},
     "output_type": "execute_result"
    }
   ],
   "source": [
    "s=\"devi\"\n",
    "s[3]"
   ]
  },
  {
   "cell_type": "code",
   "execution_count": 99,
   "metadata": {},
   "outputs": [
    {
     "data": {
      "text/plain": [
       "3"
      ]
     },
     "execution_count": 99,
     "metadata": {},
     "output_type": "execute_result"
    }
   ],
   "source": [
    "s=\"12X34\"\n",
    "a=int(s[0])+int(s[1])\n",
    "a"
   ]
  },
  {
   "cell_type": "code",
   "execution_count": 114,
   "metadata": {},
   "outputs": [
    {
     "name": "stdout",
     "output_type": "stream",
     "text": [
      "DDR\n",
      "0 -1\n"
     ]
    }
   ],
   "source": [
    "def emaze(s):\n",
    "    x=0\n",
    "    y=0\n",
    "    for i in s:\n",
    "        if i==\"L\":\n",
    "            x=0\n",
    "            y-=1\n",
    "        elif i==\"R\":\n",
    "            x=0\n",
    "            y+=1\n",
    "        elif i==\"D\":\n",
    "            x=0\n",
    "            y-=1\n",
    "        elif i==\"U\":\n",
    "            x=0\n",
    "            y+=1\n",
    "    print(x,y)\n",
    "s=input()\n",
    "emaze(s)"
   ]
  },
  {
   "cell_type": "code",
   "execution_count": null,
   "metadata": {},
   "outputs": [],
   "source": [
    "LLRDDLDUDDLUUURRLDRUURRUR\n",
    "2 1"
   ]
  },
  {
   "cell_type": "code",
   "execution_count": 122,
   "metadata": {},
   "outputs": [
    {
     "name": "stdout",
     "output_type": "stream",
     "text": [
      "5\n",
      "*   *\n",
      "*   *\n",
      "*****\n",
      "*   *\n",
      "*   *\n",
      "*****\n",
      "*   *\n",
      "*   *\n",
      "*****\n",
      "*   *\n",
      "*   *\n",
      "*****\n",
      "*   *\n",
      "*   *\n",
      "*****\n",
      "*   *\n",
      "*   *\n"
     ]
    }
   ],
   "source": [
    "n=int(input())\n",
    "for i in range(1,n+1):\n",
    "    for i in range(1,4):\n",
    "        if i==1 or i==2:\n",
    "            print(\"*   *\")\n",
    "        elif i==3:\n",
    "            print(\"*****\")\n",
    "print(\"*   *\")\n",
    "print(\"*   *\")"
   ]
  },
  {
   "cell_type": "code",
   "execution_count": 145,
   "metadata": {},
   "outputs": [
    {
     "name": "stdout",
     "output_type": "stream",
     "text": [
      "d\n",
      "2\n",
      "102\n"
     ]
    }
   ],
   "source": [
    "def cipher(s):\n",
    "    for i in s:\n",
    "        n=ord(i)+k\n",
    "    print(n)\n",
    "s=input()\n",
    "k=int(input())\n",
    "cipher(s)"
   ]
  },
  {
   "cell_type": "code",
   "execution_count": 146,
   "metadata": {},
   "outputs": [
    {
     "data": {
      "text/plain": [
       "100"
      ]
     },
     "execution_count": 146,
     "metadata": {},
     "output_type": "execute_result"
    }
   ],
   "source": [
    "ord(\"d\")"
   ]
  },
  {
   "cell_type": "code",
   "execution_count": null,
   "metadata": {},
   "outputs": [],
   "source": []
  }
 ],
 "metadata": {
  "kernelspec": {
   "display_name": "Python 3",
   "language": "python",
   "name": "python3"
  },
  "language_info": {
   "codemirror_mode": {
    "name": "ipython",
    "version": 3
   },
   "file_extension": ".py",
   "mimetype": "text/x-python",
   "name": "python",
   "nbconvert_exporter": "python",
   "pygments_lexer": "ipython3",
   "version": "3.7.3"
  }
 },
 "nbformat": 4,
 "nbformat_minor": 2
}
