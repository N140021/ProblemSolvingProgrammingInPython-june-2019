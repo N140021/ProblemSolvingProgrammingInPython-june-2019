{
 "cells": [
  {
   "cell_type": "code",
   "execution_count": null,
   "metadata": {},
   "outputs": [],
   "source": [
    "# Marks Analysis Application\n",
    "    # Generate marks file for n students\n",
    "    # Input : Marks Text file-each line in a text file contains marks of one student\n",
    "    # Generates a report with the following information\n",
    "        # Class Average\n",
    "        # % of students pass,fail\n",
    "        # % of students with distinction\n",
    "        # lowest mark:\n",
    "        # Highest mark:"
   ]
  },
  {
   "cell_type": "code",
   "execution_count": 49,
   "metadata": {},
   "outputs": [],
   "source": [
    "# Function to generate maarks data for n students\n",
    "from random import randint\n",
    "def generateMarks(n,lb,ub):\n",
    "    with open(\"DataFiles/marks.txt\",'w') as f:\n",
    "        for i in range(1,n+1):\n",
    "            r=randint(lb,ub)\n",
    "            f.write(str(r)+'\\n')\n",
    "    return\n",
    "generateMarks(5,0,100)\n",
    "            \n",
    "    "
   ]
  },
  {
   "cell_type": "code",
   "execution_count": 50,
   "metadata": {},
   "outputs": [
    {
     "name": "stdout",
     "output_type": "stream",
     "text": [
      "59.6\n"
     ]
    }
   ],
   "source": [
    "# Function to print average of n students\n",
    "def averageMarks(filepath):\n",
    "    sum=0\n",
    "    count=0\n",
    "    with open(filepath,'r') as f:\n",
    "        for lines in f.readlines():\n",
    "            count=count+1\n",
    "            sum=sum+int(lines)\n",
    "        print(sum/count)\n",
    "    \n",
    "li=[]\n",
    "averageMarks(\"DataFiles/marks.txt\")"
   ]
  },
  {
   "cell_type": "code",
   "execution_count": 57,
   "metadata": {},
   "outputs": [
    {
     "name": "stdout",
     "output_type": "stream",
     "text": [
      "40.0\n"
     ]
    }
   ],
   "source": [
    "# Function to print % of failed students\n",
    "\n",
    "def failedstudents(filepath):\n",
    "    count=0\n",
    "    lcount=0\n",
    "    with open(filepath,'r') as f:\n",
    "        for lines in f.readlines():\n",
    "            lcount=lcount+1\n",
    "            if int(lines)<40:\n",
    "                count=count+1\n",
    "        print(count*100/lcount)\n",
    "failedstudents(\"DataFiles/marks.txt\")"
   ]
  },
  {
   "cell_type": "code",
   "execution_count": 58,
   "metadata": {},
   "outputs": [
    {
     "name": "stdout",
     "output_type": "stream",
     "text": [
      "60.0\n"
     ]
    }
   ],
   "source": [
    "# Function to print % of passed students\n",
    "def passeddstudents(filepath):\n",
    "    count=0\n",
    "    lcount=0\n",
    "    with open(filepath,'r') as f:\n",
    "        for lines in f.readlines():\n",
    "            lcount=lcount+1\n",
    "            if int(lines)>=40:\n",
    "                count=count+1\n",
    "        print(count*100/lcount)\n",
    "passeddstudents(\"DataFiles/marks.txt\")"
   ]
  },
  {
   "cell_type": "code",
   "execution_count": 60,
   "metadata": {},
   "outputs": [
    {
     "name": "stdout",
     "output_type": "stream",
     "text": [
      "40.0\n"
     ]
    }
   ],
   "source": [
    "# Function to print % of distinction students\n",
    "def distinctionstudents(filepath):\n",
    "    count=0\n",
    "    lcount=0\n",
    "    with open(filepath,'r') as f:\n",
    "        for lines in f.readlines():\n",
    "            lcount=lcount+1\n",
    "            if int(lines)>70:\n",
    "                count=count+1\n",
    "        print(count*100/lcount)\n",
    "distinctionstudents(\"DataFiles/marks.txt\")"
   ]
  },
  {
   "cell_type": "code",
   "execution_count": 64,
   "metadata": {},
   "outputs": [
    {
     "name": "stdout",
     "output_type": "stream",
     "text": [
      "92\n"
     ]
    }
   ],
   "source": [
    "# Function to print highest marks of the student\n",
    "def highestmark(filepath):\n",
    "    l=[]\n",
    "    with open(filepath,'r') as f:\n",
    "        for i in f.readlines():\n",
    "            l.append(int(i))\n",
    "        print(max(l))\n",
    "highestmark(\"DataFiles/marks.txt\")"
   ]
  },
  {
   "cell_type": "code",
   "execution_count": 65,
   "metadata": {},
   "outputs": [
    {
     "name": "stdout",
     "output_type": "stream",
     "text": [
      "25\n"
     ]
    }
   ],
   "source": [
    "# Function to print lowest marks of the student\n",
    "def lowestmark(filepath):\n",
    "    l=[]\n",
    "    with open(filepath,'r') as f:\n",
    "        for i in f.readlines():\n",
    "            l.append(int(i))\n",
    "        print(min(l))\n",
    "lowestmark(\"DataFiles/marks.txt\")"
   ]
  },
  {
   "cell_type": "code",
   "execution_count": 16,
   "metadata": {},
   "outputs": [],
   "source": []
  },
  {
   "cell_type": "code",
   "execution_count": 45,
   "metadata": {},
   "outputs": [
    {
     "name": "stdout",
     "output_type": "stream",
     "text": [
      "0 1 2 1 0 1 1 1 0 0 "
     ]
    }
   ],
   "source": [
    "# Frequency count of a given sring\n",
    "def uniquedata(allnum):\n",
    "    u=[]\n",
    "    for n in allnum:\n",
    "        if n not in u:\n",
    "            u.append(n)\n",
    "    return u\n",
    "def fun(s):\n",
    "    allnum=[]\n",
    "    for i in s:\n",
    "        if i.isdigit():\n",
    "            allnum.append(i)\n",
    "    unique=uniquedata(allnum)\n",
    "    for i in range(0,10):\n",
    "        if str(i) not in unique:\n",
    "            print(0,end=\" \")\n",
    "        else:\n",
    "            count=allnum.count(str(i))\n",
    "            print(count,end=\" \")\n",
    "s=\"123abc2567\"\n",
    "fun(s)\n",
    "\n",
    "        \n",
    "            \n"
   ]
  },
  {
   "cell_type": "code",
   "execution_count": 21,
   "metadata": {},
   "outputs": [
    {
     "name": "stdout",
     "output_type": "stream",
     "text": [
      "0 1 2 1 0 1 1 1 0 0 "
     ]
    }
   ],
   "source": [
    "s=\"123abc2576\"\n",
    "def digitFrequency(s):\n",
    "    for i in range(0,10):\n",
    "        count=s.count(str(i))\n",
    "        print(count,end=\" \")\n",
    "digitFrequency(s)"
   ]
  },
  {
   "cell_type": "code",
   "execution_count": null,
   "metadata": {},
   "outputs": [],
   "source": [
    "# Function to check if two strings are anagrams"
   ]
  }
 ],
 "metadata": {
  "kernelspec": {
   "display_name": "Python 3",
   "language": "python",
   "name": "python3"
  },
  "language_info": {
   "codemirror_mode": {
    "name": "ipython",
    "version": 3
   },
   "file_extension": ".py",
   "mimetype": "text/x-python",
   "name": "python",
   "nbconvert_exporter": "python",
   "pygments_lexer": "ipython3",
   "version": "3.7.3"
  }
 },
 "nbformat": 4,
 "nbformat_minor": 2
}
