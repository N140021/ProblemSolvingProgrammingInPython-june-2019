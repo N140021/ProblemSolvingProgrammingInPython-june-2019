{
 "cells": [
  {
   "cell_type": "markdown",
   "metadata": {},
   "source": [
    "### Day Objectivies\n",
    "- Regular Expressions\n",
    "        - Constructing Regular Expressions for various use cases\n",
    "        - Regular Expressions Module and related in Python\n",
    "        - Improving Contact application with name and phone number validation using regular expression\n",
    "- File Handling\n",
    "        - Text Files\n",
    "        - Upgrading the Contacts Application to store contact information in a text file"
   ]
  },
  {
   "cell_type": "markdown",
   "metadata": {},
   "source": [
    "### Basics of Regular Expressions\n",
    "\n",
    "\n",
    "- Pattern Matching\n",
    "- Symbolic Notation of a pattern\n",
    "    - Pattern : Format which repeats\n",
    "    - Pattern(RE) : Represents the set of all values that matches the pattern\n",
    "- [0-9] -> Any digit\n",
    "\n",
    "- [a-z] -> Any lowercase alphabet\n",
    "\n",
    "- [2468] or [8642] or [6824] etc -> All single digit multiple of 2\n",
    "\n",
    "- ^[0-9]{1}$  -> Accepted only single digit number \n",
    "\n",
    "- ^[0-9]{2}$  -> Accepted 2 digits numbers only\n",
    "\n",
    "- ^[0-9]{3} -> Starting with first 3 digits\n",
    "\n",
    "- [0-9]{2}$-> ending with 2 digits\n",
    "\n",
    "- ^[1-9][0-9]*0$ -> All multiple of 10\n",
    "\n",
    "-^[6-9][0-9]{9}$|^[0][6-9][0-9]{9}$|^[+][9][1][6-9][0-9]{9}$  -> validation phone number\n",
    "\n",
    "- ^[1-9][0-9]{9}$ ->all 10 digits number\n",
    "\n",
    "- ^([1-9][0-9]*[05])$|^([5])$ -> All multiple of 5 \n",
    "\n",
    "- (print)|[p][r][i][n][t] -> Searching for a word\n",
    "- ^[N][0-9]{6}$ -> Roll number\n",
    "\n",
    "- Email Validation\n",
    "    - Username\n",
    "        - Length of username:[6,15]\n",
    "        - No special characters other than _ .\n",
    "        - Should not begin and end with - .\n",
    "        - Character set: all digita and lowercase alphabet and _ .\n",
    "    - domail\n",
    "        - Length of domain :[3,18]\n",
    "        - No special characters\n",
    "        - Character set : all digits and lowercase alphabet\n",
    "    - extension\n",
    "        - Length of extension : [2,4]\n",
    "        - No special charcters\n",
    "        - Character set:lowercase alphabets\n",
    "         \n",
    "  - ^[0-9a-z][0-9a-z_.]{4,13}[0-9a-z][@][0-9a-z]{3,18}[.][a-z]{2,4}$ -> Email\n",
    "  \n",
    "  - ^[a].{3,20}[z]$\n",
    "  \n",
    "  - ^[a].{3}[z]$ Any string of length 5 that starts with a and ends with z\n",
    "  \n",
    "  - ^[a].*[z]$"
   ]
  },
  {
   "cell_type": "markdown",
   "metadata": {},
   "source": [
    "### Life,Universe ans Everything"
   ]
  },
  {
   "cell_type": "code",
   "execution_count": 2,
   "metadata": {},
   "outputs": [
    {
     "name": "stdout",
     "output_type": "stream",
     "text": [
      "553\n",
      "553\n",
      "42\n"
     ]
    }
   ],
   "source": [
    "def fun():\n",
    "    for i in range(0,1000):\n",
    "        i=int(input())\n",
    "        if i==42:\n",
    "            break\n",
    "        else:\n",
    "            print(i)\n",
    "fun()"
   ]
  },
  {
   "cell_type": "code",
   "execution_count": 4,
   "metadata": {},
   "outputs": [
    {
     "data": {
      "text/plain": [
       "True"
      ]
     },
     "execution_count": 4,
     "metadata": {},
     "output_type": "execute_result"
    }
   ],
   "source": [
    "# Function to validate a phone number\n",
    "import re\n",
    "def phonenumberValidation(num):\n",
    "    pattern='^[6-9][0-9]{9}$|^[0][6-9][0-9]{9}$|^[+][9][1][6-9][0-9]{9}$'\n",
    "    if re.match(pattern,str(num)):\n",
    "        #print(\"Valid number\")\n",
    "        return True\n",
    "    else:\n",
    "        #print(\"Invalid number\")\n",
    "        return False\n",
    "    return\n",
    "phonenumberValidation(9876543210)\n",
    "\n"
   ]
  },
  {
   "cell_type": "code",
   "execution_count": 5,
   "metadata": {},
   "outputs": [
    {
     "data": {
      "text/plain": [
       "True"
      ]
     },
     "execution_count": 5,
     "metadata": {},
     "output_type": "execute_result"
    }
   ],
   "source": [
    "def emailValidation(email):\n",
    "    pattern='^[0-9a-z][0-9a-z_.]{4,13}[0-9a-z][@][0-9a-z]{3,18}[.][a-z]{2,4}$'\n",
    "    if re.match(pattern,email):\n",
    "        return True\n",
    "    return False\n",
    "emailValidation(\"devireddy1225@gmail.com\")"
   ]
  },
  {
   "cell_type": "code",
   "execution_count": 3,
   "metadata": {},
   "outputs": [
    {
     "ename": "NameError",
     "evalue": "name 'emailValidation' is not defined",
     "output_type": "error",
     "traceback": [
      "\u001b[1;31m---------------------------------------------------------------------------\u001b[0m",
      "\u001b[1;31mNameError\u001b[0m                                 Traceback (most recent call last)",
      "\u001b[1;32m<ipython-input-3-d6bbc99bdcc7>\u001b[0m in \u001b[0;36m<module>\u001b[1;34m\u001b[0m\n\u001b[0;32m     19\u001b[0m         \u001b[0mcontacts\u001b[0m\u001b[1;33m[\u001b[0m\u001b[0mname\u001b[0m\u001b[1;33m,\u001b[0m\u001b[1;34m\"added\"\u001b[0m\u001b[1;33m]\u001b[0m\u001b[1;33m\u001b[0m\u001b[1;33m\u001b[0m\u001b[0m\n\u001b[0;32m     20\u001b[0m \u001b[1;33m\u001b[0m\u001b[0m\n\u001b[1;32m---> 21\u001b[1;33m \u001b[0maddcontact\u001b[0m\u001b[1;33m(\u001b[0m\u001b[1;34m\"sai\"\u001b[0m\u001b[1;33m,\u001b[0m\u001b[1;36m9876543211\u001b[0m\u001b[1;33m,\u001b[0m\u001b[1;34m\"apssdc@gmail.com\"\u001b[0m\u001b[1;33m)\u001b[0m\u001b[1;33m\u001b[0m\u001b[1;33m\u001b[0m\u001b[0m\n\u001b[0m",
      "\u001b[1;32m<ipython-input-3-d6bbc99bdcc7>\u001b[0m in \u001b[0;36maddcontact\u001b[1;34m(name, phone, email)\u001b[0m\n\u001b[0;32m     10\u001b[0m             \u001b[0mprint\u001b[0m\u001b[1;33m(\u001b[0m\u001b[1;34m\"Invalid phone number\"\u001b[0m\u001b[1;33m)\u001b[0m\u001b[1;33m\u001b[0m\u001b[1;33m\u001b[0m\u001b[0m\n\u001b[0;32m     11\u001b[0m             \u001b[1;32mreturn\u001b[0m\u001b[1;33m\u001b[0m\u001b[1;33m\u001b[0m\u001b[0m\n\u001b[1;32m---> 12\u001b[1;33m         \u001b[1;32mif\u001b[0m \u001b[1;32mnot\u001b[0m \u001b[0memailValidation\u001b[0m\u001b[1;33m(\u001b[0m\u001b[0memail\u001b[0m\u001b[1;33m)\u001b[0m\u001b[1;33m:\u001b[0m\u001b[1;33m\u001b[0m\u001b[1;33m\u001b[0m\u001b[0m\n\u001b[0m\u001b[0;32m     13\u001b[0m             \u001b[0mprint\u001b[0m\u001b[1;33m(\u001b[0m\u001b[1;34m\"Invalid email\"\u001b[0m\u001b[1;33m)\u001b[0m\u001b[1;33m\u001b[0m\u001b[1;33m\u001b[0m\u001b[0m\n\u001b[0;32m     14\u001b[0m             \u001b[1;32mreturn\u001b[0m\u001b[1;33m\u001b[0m\u001b[1;33m\u001b[0m\u001b[0m\n",
      "\u001b[1;31mNameError\u001b[0m: name 'emailValidation' is not defined"
     ]
    }
   ],
   "source": [
    "#contacts={\"name1\":[9876543210,'name1@gmail.com'],\"name2\":[6579754957,'name2@gmail.com']}\n",
    "contacts={}\n",
    "def addcontact(name,phone,email):\n",
    "    # verify that the contact doesnot already exists\n",
    "    if name in contacts:\n",
    "        print(\"Name already exists\")\n",
    "        return\n",
    "    else:\n",
    "        if not phonenumberValidation(phone):\n",
    "            print(\"Invalid phone number\")\n",
    "            return\n",
    "        if not emailValidation(email):\n",
    "            print(\"Invalid email\")\n",
    "            return\n",
    "        newcontact=[]\n",
    "        newcontact.append(phone)\n",
    "        newcontact.append(email)\n",
    "        contacts[name]=newcontact\n",
    "        contacts[name,\"added\"]\n",
    "    \n",
    "addcontact(\"sai\",9876543211,\"apssdc@gmail.com\")"
   ]
  },
  {
   "cell_type": "code",
   "execution_count": 6,
   "metadata": {},
   "outputs": [
    {
     "name": "stdout",
     "output_type": "stream",
     "text": [
      "sai does not exist\n"
     ]
    }
   ],
   "source": [
    "def searchcontacts(name):\n",
    "    if name in contacts:\n",
    "        print(name)\n",
    "        print(\"Phone :\",contacts[name[0]])\n",
    "        print(\"Email :\",contacts[name[1]])\n",
    "    else:\n",
    "        print(\"%s does not exist\" % name)\n",
    "    return\n",
    "searchcontacts(\"sai\")"
   ]
  },
  {
   "cell_type": "code",
   "execution_count": 9,
   "metadata": {},
   "outputs": [
    {
     "name": "stdout",
     "output_type": "stream",
     "text": [
      "1 added successfully\n"
     ]
    },
    {
     "data": {
      "text/plain": [
       "{'sai': [9876543211, 'apssdc@gmail.com'],\n",
       " 'name4': [9247162912, 'devi2121@gmail.com']}"
      ]
     },
     "execution_count": 9,
     "metadata": {},
     "output_type": "execute_result"
    }
   ],
   "source": [
    "def importcontacts(newcontacts):\n",
    "    contacts.update(newcontacts)\n",
    "    print(len(newcontacts.keys()),\"added successfully\")\n",
    "    return\n",
    "newcontacts={\"name4\":[9247162912,\"devi2121@gmail.com\"]}\n",
    "importcontacts(newcontacts)\n",
    "contacts"
   ]
  },
  {
   "cell_type": "code",
   "execution_count": 8,
   "metadata": {},
   "outputs": [],
   "source": [
    "# Function to list all contacts\n",
    "def listcontacts():\n",
    "    for name,phone in contacts.items():\n",
    "        print(contacts,\"\\n\",\"phone :\" ,name[0],\"\\n\",\"email:\",name[1])\n",
    "listcontacts()"
   ]
  },
  {
   "cell_type": "code",
   "execution_count": 6,
   "metadata": {},
   "outputs": [
    {
     "data": {
      "text/plain": [
       "{'sai': [9876543211, 'apssdc@gmail.com']}"
      ]
     },
     "execution_count": 6,
     "metadata": {},
     "output_type": "execute_result"
    }
   ],
   "source": [
    "contacts"
   ]
  },
  {
   "cell_type": "code",
   "execution_count": 15,
   "metadata": {},
   "outputs": [
    {
     "name": "stdout",
     "output_type": "stream",
     "text": [
      "2\n",
      "1 2\n",
      "2\n",
      "1 1\n",
      "1 0\n",
      "5\n",
      "1 3\n",
      "2\n",
      "1 1\n",
      "0 1\n",
      "5\n"
     ]
    }
   ],
   "source": [
    "\n",
    "def fun():\n",
    "    a=int(input())\n",
    "    for i in range(1,a+1):\n",
    "        d=input().split()\n",
    "        p,q=int(d[0]),int(d[1])\n",
    "        N=int(input())\n",
    "        if a%2!=0:\n",
    "            count=0\n",
    "            sum=0\n",
    "            for i in range(1,N+1):\n",
    "                s=input().split()\n",
    "                x,y=int(s[0]),int(s[1])\n",
    "                if x==1:\n",
    "                    count=count+1\n",
    "                if y==1:\n",
    "                    sum=sum+1\n",
    "            cost=(count*p)+(sum*q)\n",
    "            print(cost)\n",
    "        else:\n",
    "            count=0\n",
    "            sum=0\n",
    "            for i in range(1,N+1):\n",
    "                s=input().split()\n",
    "                x,y=int(s[0]),int(s[1])\n",
    "                if x==1:\n",
    "                    count=count+1\n",
    "                if y==1:\n",
    "                    sum=sum+1\n",
    "            cost=(count*q)+(sum*p)\n",
    "            print(cost)\n",
    "            \n",
    "fun()"
   ]
  },
  {
   "cell_type": "markdown",
   "metadata": {},
   "source": [
    "## File Handling in Python\n",
    "\n",
    "File - Document containing information residing\n",
    "Types: Text,PDF,CSV etc\n",
    "    \n",
    "File I/O - Channeling I/O data to files\n",
    "Default I/O channels- Keyboard /Screen\n",
    "\n",
    "Change I/O channel to files for Reading and writing\n",
    "\n",
    "Read a file- Input from file\n",
    "Write a file- Output to a file\n",
    "\n",
    "Read / write a file-open(filename,mode)\n"
   ]
  },
  {
   "cell_type": "code",
   "execution_count": 12,
   "metadata": {},
   "outputs": [
    {
     "name": "stdout",
     "output_type": "stream",
     "text": [
      "new data\n"
     ]
    }
   ],
   "source": [
    "# Function to read a file\n",
    "\n",
    "def readFile(filename):\n",
    "    f=open(filename,'r')\n",
    "    filedata=f.read()\n",
    "    f.close()\n",
    "    return filedata\n",
    "filename='DataFiles/data.txt'\n",
    "for line in readFile(filename).split('\\n'):\n",
    "    print(line)"
   ]
  },
  {
   "cell_type": "code",
   "execution_count": 13,
   "metadata": {},
   "outputs": [],
   "source": [
    "# Function to write data into a file\n",
    "\n",
    "def writeIntoFile(filename,filedata):\n",
    "    with open(filename,'w') as f:\n",
    "        f.write(filedata)\n",
    "    return\n",
    "filename='DataFiles/data.txt'\n",
    "writeIntoFile(filename,\"new data\\n\")"
   ]
  },
  {
   "cell_type": "code",
   "execution_count": 14,
   "metadata": {},
   "outputs": [],
   "source": [
    "# Function to append data\n",
    "def appendDataFile(filename,filedata):\n",
    "    with open(filename,'a') as f:\n",
    "        f.write(filedata)\n",
    "    return\n",
    "filename='DataFiles/data.txt'\n",
    "filedata=\"hii\\nhello\"\n",
    "appendDataFile(filename,filedata)\n"
   ]
  },
  {
   "cell_type": "code",
   "execution_count": 34,
   "metadata": {},
   "outputs": [
    {
     "data": {
      "text/plain": [
       "1"
      ]
     },
     "execution_count": 34,
     "metadata": {},
     "output_type": "execute_result"
    }
   ],
   "source": []
  },
  {
   "cell_type": "code",
   "execution_count": 9,
   "metadata": {},
   "outputs": [
    {
     "name": "stdout",
     "output_type": "stream",
     "text": [
      "15\n",
      "2\n",
      "3\n",
      "5\n",
      "7\n",
      "11\n",
      "13\n"
     ]
    }
   ],
   "source": [
    "def prime(n):\n",
    "    i=0\n",
    "    count=0\n",
    "    while(i!=n):\n",
    "        i=i+1\n",
    "        if n%i==0:\n",
    "            count=count+1\n",
    "    if count==2:\n",
    "        return True\n",
    "    else:\n",
    "        return False\n",
    "a=int(input())\n",
    "for i in range(1,a+1):\n",
    "    if prime(i)==True:\n",
    "        print(i)\n",
    "\n"
   ]
  },
  {
   "cell_type": "code",
   "execution_count": null,
   "metadata": {},
   "outputs": [
    {
     "name": "stdout",
     "output_type": "stream",
     "text": [
      "12\n"
     ]
    }
   ],
   "source": []
  },
  {
   "cell_type": "code",
   "execution_count": 1,
   "metadata": {},
   "outputs": [
    {
     "name": "stdout",
     "output_type": "stream",
     "text": [
      "12\n",
      "30\n"
     ]
    }
   ],
   "source": [
    "def fun(n):\n",
    "    for i in range(1,10+1):\n",
    "        sum=0\n",
    "        for j in n:\n",
    "            s=int(j)\n",
    "            sum=sum+s*i\n",
    "    print(sum)\n",
    "n=input()\n",
    "fun(n)\n",
    "        \n",
    "\n",
    "    \n",
    "    "
   ]
  },
  {
   "cell_type": "code",
   "execution_count": 3,
   "metadata": {},
   "outputs": [
    {
     "name": "stdout",
     "output_type": "stream",
     "text": [
      "1401601499\n",
      "Legal\n"
     ]
    }
   ],
   "source": [
    "def fun():\n",
    "    n=input()\n",
    "    sum=0\n",
    "    j=0\n",
    "    for i in n:\n",
    "        i=int(i)\n",
    "        j=j+1\n",
    "        s=i*j\n",
    "        sum=sum+s\n",
    "    if sum%11==0:\n",
    "        print(\"Legal\")\n",
    "    else:\n",
    "        print(\"Il\")\n",
    "fun()\n",
    "    \n",
    "    "
   ]
  },
  {
   "cell_type": "code",
   "execution_count": null,
   "metadata": {},
   "outputs": [],
   "source": []
  }
 ],
 "metadata": {
  "kernelspec": {
   "display_name": "Python 3",
   "language": "python",
   "name": "python3"
  },
  "language_info": {
   "codemirror_mode": {
    "name": "ipython",
    "version": 3
   },
   "file_extension": ".py",
   "mimetype": "text/x-python",
   "name": "python",
   "nbconvert_exporter": "python",
   "pygments_lexer": "ipython3",
   "version": "3.7.3"
  }
 },
 "nbformat": 4,
 "nbformat_minor": 2
}
