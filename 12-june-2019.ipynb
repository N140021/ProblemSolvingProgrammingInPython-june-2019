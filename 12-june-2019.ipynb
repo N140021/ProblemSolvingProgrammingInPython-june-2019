{
 "cells": [
  {
   "cell_type": "markdown",
   "metadata": {},
   "source": [
    "### Problem Solving and Programming\n",
    "\n",
    "### 12-june-2019\n",
    "\n",
    "### Day Objectivies\n",
    "\n",
    "- String Slicing\n",
    "- Functions in python\n",
    "- Basic Problems related to conditional statements using functions\n",
    "- Iterations in python\n",
    "- Python Data Structures-Lists,Tuples and Dictionaries\n",
    "- Basic Operations on data structures\n",
    "- Apply data structures to solve problems"
   ]
  },
  {
   "cell_type": "code",
   "execution_count": null,
   "metadata": {},
   "outputs": [],
   "source": []
  },
  {
   "cell_type": "markdown",
   "metadata": {},
   "source": [
    "## String Slicing"
   ]
  },
  {
   "cell_type": "code",
   "execution_count": 12,
   "metadata": {},
   "outputs": [
    {
     "data": {
      "text/plain": [
       "'Py'"
      ]
     },
     "execution_count": 12,
     "metadata": {},
     "output_type": "execute_result"
    }
   ],
   "source": [
    "s1=\"Python\"\n",
    "s1[0]#printing first character\n",
    "s1[0:3]# printing first 3 characters\n",
    "s1[len(s1)-1]# Printing last character\n",
    "s1[-1] #printing last character\n",
    "s1[-2] #printing penultimate character\n",
    "s1[0:2]"
   ]
  },
  {
   "cell_type": "code",
   "execution_count": null,
   "metadata": {},
   "outputs": [],
   "source": []
  }
 ],
 "metadata": {
  "kernelspec": {
   "display_name": "Python 3",
   "language": "python",
   "name": "python3"
  },
  "language_info": {
   "codemirror_mode": {
    "name": "ipython",
    "version": 3
   },
   "file_extension": ".py",
   "mimetype": "text/x-python",
   "name": "python",
   "nbconvert_exporter": "python",
   "pygments_lexer": "ipython3",
   "version": "3.7.3"
  }
 },
 "nbformat": 4,
 "nbformat_minor": 2
}
