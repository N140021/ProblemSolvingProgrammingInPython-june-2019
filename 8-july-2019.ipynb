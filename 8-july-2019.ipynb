{
 "cells": [
  {
   "cell_type": "markdown",
   "metadata": {},
   "source": [
    "### Strings in python\n",
    "\n",
    "- Strings are immutable\n",
    "    - we can't change them"
   ]
  },
  {
   "cell_type": "code",
   "execution_count": 18,
   "metadata": {},
   "outputs": [
    {
     "name": "stdout",
     "output_type": "stream",
     "text": [
      "<class 'str'>\n"
     ]
    }
   ],
   "source": [
    "name=\"devi sai\"\n",
    "print(type(name))"
   ]
  },
  {
   "cell_type": "code",
   "execution_count": 19,
   "metadata": {},
   "outputs": [
    {
     "name": "stdout",
     "output_type": "stream",
     "text": [
      "8\n"
     ]
    },
    {
     "data": {
      "text/plain": [
       "True"
      ]
     },
     "execution_count": 19,
     "metadata": {},
     "output_type": "execute_result"
    }
   ],
   "source": [
    "\n",
    "print(len(name))\n",
    "name.islower()"
   ]
  },
  {
   "cell_type": "code",
   "execution_count": 9,
   "metadata": {},
   "outputs": [
    {
     "name": "stdout",
     "output_type": "stream",
     "text": [
      "i\n",
      "i\n"
     ]
    }
   ],
   "source": [
    "print(name[-1])\n",
    "print(name[len(name)-1])"
   ]
  },
  {
   "cell_type": "code",
   "execution_count": 10,
   "metadata": {},
   "outputs": [
    {
     "ename": "IndexError",
     "evalue": "string index out of range",
     "output_type": "error",
     "traceback": [
      "\u001b[1;31m---------------------------------------------------------------------------\u001b[0m",
      "\u001b[1;31mIndexError\u001b[0m                                Traceback (most recent call last)",
      "\u001b[1;32m<ipython-input-10-7209dde98ab6>\u001b[0m in \u001b[0;36m<module>\u001b[1;34m\u001b[0m\n\u001b[1;32m----> 1\u001b[1;33m \u001b[0mprint\u001b[0m\u001b[1;33m(\u001b[0m\u001b[0mname\u001b[0m\u001b[1;33m[\u001b[0m\u001b[1;36m13\u001b[0m\u001b[1;33m]\u001b[0m\u001b[1;33m)\u001b[0m\u001b[1;33m\u001b[0m\u001b[1;33m\u001b[0m\u001b[0m\n\u001b[0m",
      "\u001b[1;31mIndexError\u001b[0m: string index out of range"
     ]
    }
   ],
   "source": [
    "print(name[13])"
   ]
  },
  {
   "cell_type": "code",
   "execution_count": 21,
   "metadata": {},
   "outputs": [
    {
     "data": {
      "text/plain": [
       "True"
      ]
     },
     "execution_count": 21,
     "metadata": {},
     "output_type": "execute_result"
    }
   ],
   "source": [
    "name=\"python code\"\n",
    "name.islower()\n",
    "#name.isupper()"
   ]
  },
  {
   "cell_type": "code",
   "execution_count": 25,
   "metadata": {},
   "outputs": [
    {
     "data": {
      "text/plain": [
       "True"
      ]
     },
     "execution_count": 25,
     "metadata": {},
     "output_type": "execute_result"
    }
   ],
   "source": [
    "### create a function  to check first and last charcters of given string are captital or not\n",
    "s=\"DevI\"\n",
    "def fun(s):\n",
    "    if s[0].isupper() and s[-1].isupper():\n",
    "        return True\n",
    "    else:\n",
    "        return False\n",
    "fun(s)"
   ]
  },
  {
   "cell_type": "code",
   "execution_count": 30,
   "metadata": {},
   "outputs": [
    {
     "data": {
      "text/plain": [
       "'devi'"
      ]
     },
     "execution_count": 30,
     "metadata": {},
     "output_type": "execute_result"
    }
   ],
   "source": [
    "s=s.lower()\n",
    "s"
   ]
  },
  {
   "cell_type": "code",
   "execution_count": 31,
   "metadata": {},
   "outputs": [
    {
     "data": {
      "text/plain": [
       "'DEVI'"
      ]
     },
     "execution_count": 31,
     "metadata": {},
     "output_type": "execute_result"
    }
   ],
   "source": [
    "s=s.upper()\n",
    "s"
   ]
  },
  {
   "cell_type": "code",
   "execution_count": 35,
   "metadata": {},
   "outputs": [
    {
     "name": "stdout",
     "output_type": "stream",
     "text": [
      "True\n"
     ]
    }
   ],
   "source": [
    "n=\"12345\"\n",
    "print(n.isdigit())"
   ]
  },
  {
   "cell_type": "code",
   "execution_count": 37,
   "metadata": {},
   "outputs": [
    {
     "name": "stdout",
     "output_type": "stream",
     "text": [
      "True\n"
     ]
    }
   ],
   "source": [
    "print(s.isalpha())"
   ]
  },
  {
   "cell_type": "code",
   "execution_count": 42,
   "metadata": {},
   "outputs": [
    {
     "name": "stdout",
     "output_type": "stream",
     "text": [
      "devi@\n",
      "others\n"
     ]
    }
   ],
   "source": [
    "### create a function which can idntify number or alphabets or others\n",
    "\n",
    "s=input()\n",
    "def fun(s):\n",
    "    if s.isdigit():\n",
    "        print(\"numbers\")\n",
    "    elif s.isalpha():\n",
    "        print(\"name\")\n",
    "    else:\n",
    "        print(\"others\")\n",
    "fun(s)      "
   ]
  },
  {
   "cell_type": "code",
   "execution_count": 50,
   "metadata": {},
   "outputs": [
    {
     "name": "stdout",
     "output_type": "stream",
     "text": [
      "['devi s', 'i']\n"
     ]
    },
    {
     "data": {
      "text/plain": [
       "'devi s'"
      ]
     },
     "execution_count": 50,
     "metadata": {},
     "output_type": "execute_result"
    }
   ],
   "source": [
    "s=\"devi sai\"\n",
    "a=s.split(\"a\")\n",
    "print(a)\n",
    "a[0]\n"
   ]
  },
  {
   "cell_type": "code",
   "execution_count": 55,
   "metadata": {},
   "outputs": [
    {
     "name": "stdout",
     "output_type": "stream",
     "text": [
      "original length 6\n",
      "devi  5\n"
     ]
    }
   ],
   "source": [
    "s=\" devi \"\n",
    "print(\"original length\",len(s))\n",
    "result=s.lstrip()\n",
    "print(result,len(result))"
   ]
  },
  {
   "cell_type": "code",
   "execution_count": 56,
   "metadata": {},
   "outputs": [
    {
     "name": "stdout",
     "output_type": "stream",
     "text": [
      "original length 7\n",
      "  devi 6\n"
     ]
    }
   ],
   "source": [
    "s=\"  devi \"\n",
    "print(\"original length\",len(s))\n",
    "result=s.rstrip()\n",
    "print(result,len(result))"
   ]
  },
  {
   "cell_type": "code",
   "execution_count": 57,
   "metadata": {},
   "outputs": [
    {
     "name": "stdout",
     "output_type": "stream",
     "text": [
      "original length 6\n",
      "devi 4\n"
     ]
    }
   ],
   "source": [
    "s=\" devi \"\n",
    "print(\"original length\",len(s))\n",
    "result=s.strip()\n",
    "print(result,len(result))"
   ]
  },
  {
   "cell_type": "code",
   "execution_count": 4,
   "metadata": {},
   "outputs": [
    {
     "name": "stdout",
     "output_type": "stream",
     "text": [
      "23\n",
      "2\n",
      "sai\n",
      "0\n",
      "sum = 25 minnimum = 0 maxmimum = 23\n"
     ]
    }
   ],
   "source": [
    "### take the values from the user until user gives 0 and find the min and max and sum of numbers in a given values\n",
    "def fun():\n",
    "    l=[]\n",
    "    while(True):\n",
    "        n=input()\n",
    "        if n.isdigit():\n",
    "            l.append(int(n))\n",
    "        if n==\"0\":\n",
    "            l.append(int(n))\n",
    "            break\n",
    "    print(\"sum =\",sum(l),\"minnimum =\",min(l),\"maxmimum =\",max(l))          \n",
    "fun()"
   ]
  },
  {
   "cell_type": "code",
   "execution_count": 59,
   "metadata": {},
   "outputs": [
    {
     "name": "stdout",
     "output_type": "stream",
     "text": [
      "True\n"
     ]
    }
   ],
   "source": [
    "n=0\n",
    "if n==0:\n",
    "    print(\"True\")\n",
    "else:\n",
    "    print(\"False\")"
   ]
  },
  {
   "cell_type": "code",
   "execution_count": 1,
   "metadata": {},
   "outputs": [
    {
     "name": "stdout",
     "output_type": "stream",
     "text": [
      "23\n",
      "23\n",
      "23\n",
      "23\n",
      "42\n"
     ]
    }
   ],
   "source": [
    "while(True):\n",
    "    n=int(input())\n",
    "    if n==42:\n",
    "        break\n",
    "    else:\n",
    "        print(n)"
   ]
  },
  {
   "cell_type": "code",
   "execution_count": 14,
   "metadata": {},
   "outputs": [
    {
     "data": {
      "text/plain": [
       "True"
      ]
     },
     "execution_count": 14,
     "metadata": {},
     "output_type": "execute_result"
    }
   ],
   "source": [
    "s=\"devi\"\n",
    "s.startswith(\"D\")\n",
    "s.endswith(\"vi\")"
   ]
  },
  {
   "cell_type": "code",
   "execution_count": 19,
   "metadata": {},
   "outputs": [
    {
     "data": {
      "text/plain": [
       "'dEvI'"
      ]
     },
     "execution_count": 19,
     "metadata": {},
     "output_type": "execute_result"
    }
   ],
   "source": [
    "s=\"DeVi\"\n",
    "s.swapcase()"
   ]
  },
  {
   "cell_type": "code",
   "execution_count": 22,
   "metadata": {},
   "outputs": [
    {
     "data": {
      "text/plain": [
       "'Devi Sai'"
      ]
     },
     "execution_count": 22,
     "metadata": {},
     "output_type": "execute_result"
    }
   ],
   "source": [
    "s=\"devi sAi\"\n",
    "s.title()"
   ]
  },
  {
   "cell_type": "code",
   "execution_count": 28,
   "metadata": {},
   "outputs": [
    {
     "data": {
      "text/plain": [
       "True"
      ]
     },
     "execution_count": 28,
     "metadata": {},
     "output_type": "execute_result"
    }
   ],
   "source": [
    "n=\"Devi Sai\"\n",
    "n.istitle()"
   ]
  },
  {
   "cell_type": "code",
   "execution_count": 36,
   "metadata": {},
   "outputs": [
    {
     "data": {
      "text/plain": [
       "'devi'"
      ]
     },
     "execution_count": 36,
     "metadata": {},
     "output_type": "execute_result"
    }
   ],
   "source": [
    "mylist=[\"d\",\"e\",\"v\",\"i\"]\n",
    "\"\".join(mylist)"
   ]
  },
  {
   "cell_type": "code",
   "execution_count": 46,
   "metadata": {},
   "outputs": [
    {
     "name": "stdout",
     "output_type": "stream",
     "text": [
      "['d', 'e', 'v', 'i']\n"
     ]
    },
    {
     "data": {
      "text/plain": [
       "'devi'"
      ]
     },
     "execution_count": 46,
     "metadata": {},
     "output_type": "execute_result"
    }
   ],
   "source": [
    "n='d e v i'\n",
    "print(n.split())\n",
    "#n.replace(\" \",\"\")\n",
    "\"\".join(n.split())"
   ]
  },
  {
   "cell_type": "code",
   "execution_count": 79,
   "metadata": {},
   "outputs": [
    {
     "name": "stdout",
     "output_type": "stream",
     "text": [
      "Sai 100\n",
      "Devi 220\n"
     ]
    }
   ],
   "source": [
    "st=[(\"Sai\",\"10 20 30 40\"),(\"Devi\",\"40 50 60 70\")]\n",
    "for i in st:\n",
    "    name=i[0]\n",
    "    marks=i[1]\n",
    "    #print(marks)\n",
    "    s=marks.split()\n",
    "    total_marks=0\n",
    "    for i in s:\n",
    "        total_marks+=int(i)\n",
    "    print(name,total_marks)\n"
   ]
  },
  {
   "cell_type": "code",
   "execution_count": 102,
   "metadata": {},
   "outputs": [
    {
     "name": "stdout",
     "output_type": "stream",
     "text": [
      "['xyz abc mnp ', 'asdf dfaa asdf', ' asd ', 'fdas asdssaff', '']\n",
      "xyz\n",
      "abc\n",
      "mnp\n",
      "\"asdf dfaa asdf\"\n",
      "asd\n",
      "\"fdas asdssaff\"\n"
     ]
    }
   ],
   "source": [
    "n='xyz abc mnp \"asdf dfaa asdf\" asd \"fdas asdssaff\"'\n",
    "s=n.split('\"')\n",
    "print(s)\n",
    "for i in s:\n",
    "    if len(i)>0:\n",
    "        if i.endswith(' '):\n",
    "            for word in i.split():\n",
    "                print(word)\n",
    "        else:\n",
    "            print('\"'+i+'\"')\n",
    "        \n"
   ]
  },
  {
   "cell_type": "code",
   "execution_count": 128,
   "metadata": {},
   "outputs": [
    {
     "name": "stdout",
     "output_type": "stream",
     "text": [
      "siva\n",
      "naga\n",
      "teja\n"
     ]
    }
   ],
   "source": [
    "### Print the names that is not ending with 'i' and 'u'\n",
    "\n",
    "n=[\"devi\",\"sai\",\"siva\",\"naga\",\"teja\",\"parvathi\"]\n",
    "for i in n:\n",
    "    if not i.endswith(\"i\") or i.endswith(\"u\"):\n",
    "        print(i)\n"
   ]
  },
  {
   "cell_type": "code",
   "execution_count": 129,
   "metadata": {},
   "outputs": [
    {
     "name": "stdout",
     "output_type": "stream",
     "text": [
      "siva\n",
      "naga\n",
      "teja\n",
      "sravs\n"
     ]
    }
   ],
   "source": [
    "n=[\"devi\",\"sai\",\"siva\",\"naga\",\"teja\",\"parvathi\",\"sravs\",\"sri\"]\n",
    "for i in n:\n",
    "    if i[-1]!=\"i\" and i[-1]!=\"u\":\n",
    "        print(i)\n"
   ]
  },
  {
   "cell_type": "code",
   "execution_count": 140,
   "metadata": {},
   "outputs": [
    {
     "data": {
      "text/plain": [
       "'ph o'"
      ]
     },
     "execution_count": 140,
     "metadata": {},
     "output_type": "execute_result"
    }
   ],
   "source": [
    "n=\"python programming\"\n",
    "\n",
    "n[7:18]\n",
    "n[10:14]\n",
    "n[0:10:3]"
   ]
  },
  {
   "cell_type": "code",
   "execution_count": 142,
   "metadata": {},
   "outputs": [
    {
     "name": "stdout",
     "output_type": "stream",
     "text": [
      "p y t h o n   p r o g r a m m i n g "
     ]
    }
   ],
   "source": [
    "for i in n:\n",
    "    print(i,end=\" \")"
   ]
  },
  {
   "cell_type": "markdown",
   "metadata": {},
   "source": [
    "### Tuples\n",
    "\n",
    "- Tuples are immutable\n",
    "- In this we have only two methods i.e tuplename.count(item),tuplename.index(item)\n",
    "- min,max,sum are functions not methods"
   ]
  },
  {
   "cell_type": "code",
   "execution_count": 177,
   "metadata": {},
   "outputs": [
    {
     "data": {
      "text/plain": [
       "4"
      ]
     },
     "execution_count": 177,
     "metadata": {},
     "output_type": "execute_result"
    }
   ],
   "source": [
    "t=(1,2,3,1,2,3)\n",
    "len(t)\n",
    "t[0]\n",
    "t.count(3)\n",
    "t.index(2)\n",
    "min(t)\n",
    "max(t)\n",
    "sum(t)\n",
    "t[0:3]\n",
    "t.index(2,3)"
   ]
  },
  {
   "cell_type": "code",
   "execution_count": 174,
   "metadata": {},
   "outputs": [
    {
     "name": "stdout",
     "output_type": "stream",
     "text": [
      "1 <class 'int'>\n",
      "2 <class 'int'>\n",
      "3 <class 'int'>\n",
      "1 <class 'str'>\n",
      "2 <class 'str'>\n"
     ]
    }
   ],
   "source": [
    "n=(1,2,3,\"1\",\"2\")\n",
    "for i in n:\n",
    "    print(i,type(i))"
   ]
  },
  {
   "cell_type": "code",
   "execution_count": 178,
   "metadata": {},
   "outputs": [
    {
     "name": "stdout",
     "output_type": "stream",
     "text": [
      "dev123\n",
      "6\n"
     ]
    }
   ],
   "source": [
    "#roll no=\"13Ab4\"\n",
    "n=input()\n",
    "def fun(n):\n",
    "    total=0\n",
    "    for i in n:\n",
    "        if i.isdigit():\n",
    "            total+=int(i)\n",
    "    print(total)\n",
    "fun(n)\n",
    "            "
   ]
  },
  {
   "cell_type": "code",
   "execution_count": 223,
   "metadata": {},
   "outputs": [
    {
     "name": "stdout",
     "output_type": "stream",
     "text": [
      "sai\n",
      "ias"
     ]
    }
   ],
   "source": [
    "s=input()\n",
    "for i in range(len(s)-1,-1,-1):\n",
    "    print(s[i],end=\"\")"
   ]
  },
  {
   "cell_type": "code",
   "execution_count": 215,
   "metadata": {},
   "outputs": [
    {
     "name": "stdout",
     "output_type": "stream",
     "text": [
      "1+2+3+4\n",
      "10\n"
     ]
    }
   ],
   "source": [
    "n=input()\n",
    "def fun(n):\n",
    "    total=0\n",
    "    s=n.split(\"+\")\n",
    "    for i in s:\n",
    "        total+=int(i)\n",
    "    print(total)\n",
    "fun(n)"
   ]
  },
  {
   "cell_type": "code",
   "execution_count": 217,
   "metadata": {},
   "outputs": [
    {
     "name": "stdout",
     "output_type": "stream",
     "text": [
      "devii saiii\n",
      "devii\n",
      "saiii\n"
     ]
    }
   ],
   "source": [
    "s=input().split()\n",
    "l=[]\n",
    "for i in s:\n",
    "    for j in i:\n",
    "        if i.count(j)>1:\n",
    "            if i not in l:\n",
    "                l.append(i)\n",
    "if len(l)==0:\n",
    "    print(\"-1\")\n",
    "else:\n",
    "    for i in l:\n",
    "        print(i)"
   ]
  },
  {
   "cell_type": "code",
   "execution_count": 230,
   "metadata": {},
   "outputs": [
    {
     "name": "stdout",
     "output_type": "stream",
     "text": [
      "['sai devi ', 'devi', '']\n",
      "sai\n",
      "devi\n",
      "\"devi\"\n"
     ]
    }
   ],
   "source": [
    "n='sai devi \"devi\"'\n",
    "s=n.split('\"')\n",
    "print(s)\n",
    "for i in s:\n",
    "    if len(i)>0:\n",
    "        if i.endswith(\" \"):\n",
    "            for word in i.split():\n",
    "                print(word)\n",
    "        else:\n",
    "            print('\"'+i+'\"')\n",
    "            "
   ]
  },
  {
   "cell_type": "code",
   "execution_count": 233,
   "metadata": {},
   "outputs": [
    {
     "name": "stdout",
     "output_type": "stream",
     "text": [
      "devi\n"
     ]
    }
   ],
   "source": [
    "a=\"dev@i\"\n",
    "l=[]\n",
    "for i in a:\n",
    "    if i.isalpha():\n",
    "        l.append(i)\n",
    "print(\"\".join(l))"
   ]
  },
  {
   "cell_type": "code",
   "execution_count": 281,
   "metadata": {},
   "outputs": [
    {
     "name": "stdout",
     "output_type": "stream",
     "text": [
      "['DST', 'DSTST']\n",
      "not found\n"
     ]
    }
   ],
   "source": [
    "n=\"DeviSaiTeja SaiTeja\"\n",
    "t=\"STD\"\n",
    "s=n.split()\n",
    "#print(n)\n",
    "l=[]\n",
    "p=[]\n",
    "for i in s:\n",
    "    for j in i:\n",
    "        if j.isupper():\n",
    "            l.append(j)\n",
    "    p.append(\"\".join(l))\n",
    "print(p)\n",
    "if t[0] not in p:\n",
    "    print(\"not found\")\n"
   ]
  },
  {
   "cell_type": "code",
   "execution_count": null,
   "metadata": {},
   "outputs": [],
   "source": []
  }
 ],
 "metadata": {
  "kernelspec": {
   "display_name": "Python 3",
   "language": "python",
   "name": "python3"
  },
  "language_info": {
   "codemirror_mode": {
    "name": "ipython",
    "version": 3
   },
   "file_extension": ".py",
   "mimetype": "text/x-python",
   "name": "python",
   "nbconvert_exporter": "python",
   "pygments_lexer": "ipython3",
   "version": "3.7.3"
  }
 },
 "nbformat": 4,
 "nbformat_minor": 2
}
